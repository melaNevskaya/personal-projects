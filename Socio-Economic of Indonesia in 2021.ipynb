{
 "cells": [
  {
   "cell_type": "markdown",
   "id": "fa5b782d-c9a0-4273-9b08-971b9cebf17e",
   "metadata": {},
   "source": [
    "**Socio-Economic of Indonesia in 2021**"
   ]
  },
  {
   "cell_type": "markdown",
   "id": "052ae9b0-0e6a-4038-aa81-ccd972178ff1",
   "metadata": {},
   "source": [
    "Data source: https://www.kaggle.com/datasets/dannytheodore/socio-economic-of-indonesia-in-2021"
   ]
  },
  {
   "cell_type": "markdown",
   "id": "4e119693-7607-48cb-8de9-b42ee0695735",
   "metadata": {},
   "source": [
    "**STAGE 1**\n",
    "\n",
    "This project analyzes data of several of Indonesia's socio-economic measure for the year of 2021. The information in  data set was collected from several reports from Indonesia's National Statistics Bureau (BPS). This dataset shows provinces, cities, number of poor people, regional GDP and etc"
   ]
  },
  {
   "cell_type": "markdown",
   "id": "89439608-a24b-430d-835e-afd662f58af8",
   "metadata": {},
   "source": [
    "1. Provinces (province): name of the province (type: object, categorical nominal)\n",
    " 2. Cities/Regencies (cities_reg): name of the city (type: object, categorical nominal) \n",
    " 3. Percentage of Poor People (poorpeople_percentage): percentage of the people who suffer from poverty (type: float, numeric continuous) \n",
    " 4. Regional GDP (reg_gdp): amount of money as GDP in 2021 (in billion rupiah) (type: float, numeric continuous)\n",
    " 5. Life Expectancy (life_exp): average expectancy of life in years (type: float, numeric continuous)\n",
    " 6. Average School Time (avg_schooltime): time spending in school (type: float, numeric continuous)\n",
    " 7. Expenses per Capita (exp_percap): amount of expenses in thousand rupiah per year (type: int, numeric descrete)"
   ]
  },
  {
   "cell_type": "markdown",
   "id": "54a1cf92-fda1-4ea0-a758-d36203a1dd4a",
   "metadata": {},
   "source": [
    "**STAGE 2. Part 1**"
   ]
  },
  {
   "cell_type": "code",
   "execution_count": 2,
   "id": "27528ccb-f4d4-4cb3-8249-f5dc741bac2f",
   "metadata": {},
   "outputs": [
    {
     "data": {
      "text/html": [
       "<div>\n",
       "<style scoped>\n",
       "    .dataframe tbody tr th:only-of-type {\n",
       "        vertical-align: middle;\n",
       "    }\n",
       "\n",
       "    .dataframe tbody tr th {\n",
       "        vertical-align: top;\n",
       "    }\n",
       "\n",
       "    .dataframe thead th {\n",
       "        text-align: right;\n",
       "    }\n",
       "</style>\n",
       "<table border=\"1\" class=\"dataframe\">\n",
       "  <thead>\n",
       "    <tr style=\"text-align: right;\">\n",
       "      <th></th>\n",
       "      <th>province</th>\n",
       "      <th>cities_reg</th>\n",
       "      <th>poorpeople_percentage</th>\n",
       "      <th>reg_gdp</th>\n",
       "      <th>life_exp</th>\n",
       "      <th>avg_schooltime</th>\n",
       "      <th>exp_percap</th>\n",
       "    </tr>\n",
       "  </thead>\n",
       "  <tbody>\n",
       "    <tr>\n",
       "      <th>0</th>\n",
       "      <td>Aceh</td>\n",
       "      <td>Simeulue</td>\n",
       "      <td>18.98</td>\n",
       "      <td>2.275</td>\n",
       "      <td>65.240</td>\n",
       "      <td>9.48</td>\n",
       "      <td>7148</td>\n",
       "    </tr>\n",
       "    <tr>\n",
       "      <th>1</th>\n",
       "      <td>Aceh</td>\n",
       "      <td>Aceh Singkil</td>\n",
       "      <td>20.36</td>\n",
       "      <td>2.425</td>\n",
       "      <td>67.355</td>\n",
       "      <td>8.68</td>\n",
       "      <td>8776</td>\n",
       "    </tr>\n",
       "    <tr>\n",
       "      <th>2</th>\n",
       "      <td>Aceh</td>\n",
       "      <td>Aceh Selatan</td>\n",
       "      <td>13.18</td>\n",
       "      <td>5.531</td>\n",
       "      <td>64.360</td>\n",
       "      <td>8.88</td>\n",
       "      <td>8180</td>\n",
       "    </tr>\n",
       "    <tr>\n",
       "      <th>3</th>\n",
       "      <td>Aceh</td>\n",
       "      <td>Aceh Tenggara</td>\n",
       "      <td>13.41</td>\n",
       "      <td>5.063</td>\n",
       "      <td>68.155</td>\n",
       "      <td>9.67</td>\n",
       "      <td>8030</td>\n",
       "    </tr>\n",
       "    <tr>\n",
       "      <th>4</th>\n",
       "      <td>Aceh</td>\n",
       "      <td>Aceh Timur</td>\n",
       "      <td>14.45</td>\n",
       "      <td>10.616</td>\n",
       "      <td>68.705</td>\n",
       "      <td>8.21</td>\n",
       "      <td>8577</td>\n",
       "    </tr>\n",
       "  </tbody>\n",
       "</table>\n",
       "</div>"
      ],
      "text/plain": [
       "  province     cities_reg  poorpeople_percentage  reg_gdp  life_exp  \\\n",
       "0     Aceh       Simeulue                  18.98    2.275    65.240   \n",
       "1     Aceh   Aceh Singkil                  20.36    2.425    67.355   \n",
       "2     Aceh   Aceh Selatan                  13.18    5.531    64.360   \n",
       "3     Aceh  Aceh Tenggara                  13.41    5.063    68.155   \n",
       "4     Aceh     Aceh Timur                  14.45   10.616    68.705   \n",
       "\n",
       "   avg_schooltime  exp_percap  \n",
       "0            9.48        7148  \n",
       "1            8.68        8776  \n",
       "2            8.88        8180  \n",
       "3            9.67        8030  \n",
       "4            8.21        8577  "
      ]
     },
     "execution_count": 2,
     "metadata": {},
     "output_type": "execute_result"
    }
   ],
   "source": [
    "import pandas as pd\n",
    "df = pd.read_csv('Downloads/archive (6)/2021socio_economic_indonesia.csv')\n",
    "df.head()  "
   ]
  },
  {
   "cell_type": "code",
   "execution_count": 3,
   "id": "0caa918d-c57c-4c34-a516-0fae14098668",
   "metadata": {},
   "outputs": [
    {
     "name": "stdout",
     "output_type": "stream",
     "text": [
      "<class 'pandas.core.frame.DataFrame'>\n",
      "RangeIndex: 514 entries, 0 to 513\n",
      "Data columns (total 7 columns):\n",
      " #   Column                 Non-Null Count  Dtype  \n",
      "---  ------                 --------------  -----  \n",
      " 0   province               514 non-null    object \n",
      " 1   cities_reg             514 non-null    object \n",
      " 2   poorpeople_percentage  514 non-null    float64\n",
      " 3   reg_gdp                514 non-null    float64\n",
      " 4   life_exp               514 non-null    float64\n",
      " 5   avg_schooltime         514 non-null    float64\n",
      " 6   exp_percap             514 non-null    int64  \n",
      "dtypes: float64(4), int64(1), object(2)\n",
      "memory usage: 28.2+ KB\n"
     ]
    }
   ],
   "source": [
    "df.info()"
   ]
  },
  {
   "cell_type": "markdown",
   "id": "c5326b77-818b-4b94-b647-13cf47e0aa55",
   "metadata": {},
   "source": [
    "**STAGE 2. Part 2**"
   ]
  },
  {
   "cell_type": "code",
   "execution_count": 4,
   "id": "976a57fd-ce06-432f-9c6d-9580208cc218",
   "metadata": {},
   "outputs": [
    {
     "data": {
      "text/plain": [
       "10754"
      ]
     },
     "execution_count": 4,
     "metadata": {},
     "output_type": "execute_result"
    }
   ],
   "source": [
    "df[(df['poorpeople_percentage'] < 10) & (df['avg_schooltime'] > 11.00)]['exp_percap'].min()"
   ]
  },
  {
   "cell_type": "markdown",
   "id": "852e8d90-637f-42ae-bbfc-feb806363aee",
   "metadata": {},
   "source": [
    "* Conclusion: Regions where the percentage of poverty is less than 10% and the time spent in school is more than 11 years, per capita spending from 10,754 thousand rupiah per year"
   ]
  },
  {
   "cell_type": "code",
   "execution_count": 5,
   "id": "2c1b2c1b-4981-421b-94dc-69d726b6fb13",
   "metadata": {},
   "outputs": [
    {
     "data": {
      "text/html": [
       "<div>\n",
       "<style scoped>\n",
       "    .dataframe tbody tr th:only-of-type {\n",
       "        vertical-align: middle;\n",
       "    }\n",
       "\n",
       "    .dataframe tbody tr th {\n",
       "        vertical-align: top;\n",
       "    }\n",
       "\n",
       "    .dataframe thead th {\n",
       "        text-align: right;\n",
       "    }\n",
       "</style>\n",
       "<table border=\"1\" class=\"dataframe\">\n",
       "  <thead>\n",
       "    <tr style=\"text-align: right;\">\n",
       "      <th></th>\n",
       "      <th>province</th>\n",
       "      <th>cities_reg</th>\n",
       "      <th>poorpeople_percentage</th>\n",
       "      <th>reg_gdp</th>\n",
       "      <th>life_exp</th>\n",
       "      <th>avg_schooltime</th>\n",
       "      <th>exp_percap</th>\n",
       "    </tr>\n",
       "  </thead>\n",
       "  <tbody>\n",
       "    <tr>\n",
       "      <th>273</th>\n",
       "      <td>Bali</td>\n",
       "      <td>Jembrana</td>\n",
       "      <td>5.06</td>\n",
       "      <td>13.465</td>\n",
       "      <td>72.400</td>\n",
       "      <td>8.35</td>\n",
       "      <td>11675</td>\n",
       "    </tr>\n",
       "    <tr>\n",
       "      <th>274</th>\n",
       "      <td>Bali</td>\n",
       "      <td>Tabanan</td>\n",
       "      <td>5.12</td>\n",
       "      <td>22.331</td>\n",
       "      <td>73.685</td>\n",
       "      <td>9.14</td>\n",
       "      <td>14326</td>\n",
       "    </tr>\n",
       "    <tr>\n",
       "      <th>275</th>\n",
       "      <td>Bali</td>\n",
       "      <td>Badung</td>\n",
       "      <td>2.62</td>\n",
       "      <td>49.215</td>\n",
       "      <td>75.060</td>\n",
       "      <td>10.62</td>\n",
       "      <td>17327</td>\n",
       "    </tr>\n",
       "    <tr>\n",
       "      <th>276</th>\n",
       "      <td>Bali</td>\n",
       "      <td>Gianyar</td>\n",
       "      <td>4.85</td>\n",
       "      <td>25.915</td>\n",
       "      <td>73.715</td>\n",
       "      <td>9.29</td>\n",
       "      <td>14391</td>\n",
       "    </tr>\n",
       "    <tr>\n",
       "      <th>277</th>\n",
       "      <td>Bali</td>\n",
       "      <td>Klungkung</td>\n",
       "      <td>5.64</td>\n",
       "      <td>8.468</td>\n",
       "      <td>71.355</td>\n",
       "      <td>8.14</td>\n",
       "      <td>11287</td>\n",
       "    </tr>\n",
       "    <tr>\n",
       "      <th>278</th>\n",
       "      <td>Bali</td>\n",
       "      <td>Bangli</td>\n",
       "      <td>5.09</td>\n",
       "      <td>6.722</td>\n",
       "      <td>70.570</td>\n",
       "      <td>7.18</td>\n",
       "      <td>11201</td>\n",
       "    </tr>\n",
       "    <tr>\n",
       "      <th>279</th>\n",
       "      <td>Bali</td>\n",
       "      <td>Karang Asem</td>\n",
       "      <td>6.78</td>\n",
       "      <td>16.453</td>\n",
       "      <td>70.500</td>\n",
       "      <td>6.33</td>\n",
       "      <td>10175</td>\n",
       "    </tr>\n",
       "    <tr>\n",
       "      <th>280</th>\n",
       "      <td>Bali</td>\n",
       "      <td>Buleleng</td>\n",
       "      <td>6.12</td>\n",
       "      <td>33.359</td>\n",
       "      <td>71.895</td>\n",
       "      <td>7.25</td>\n",
       "      <td>13362</td>\n",
       "    </tr>\n",
       "    <tr>\n",
       "      <th>281</th>\n",
       "      <td>Bali</td>\n",
       "      <td>Kota Denpasar</td>\n",
       "      <td>2.96</td>\n",
       "      <td>49.583</td>\n",
       "      <td>74.880</td>\n",
       "      <td>11.48</td>\n",
       "      <td>19598</td>\n",
       "    </tr>\n",
       "  </tbody>\n",
       "</table>\n",
       "</div>"
      ],
      "text/plain": [
       "    province     cities_reg  poorpeople_percentage  reg_gdp  life_exp  \\\n",
       "273     Bali       Jembrana                   5.06   13.465    72.400   \n",
       "274     Bali        Tabanan                   5.12   22.331    73.685   \n",
       "275     Bali         Badung                   2.62   49.215    75.060   \n",
       "276     Bali        Gianyar                   4.85   25.915    73.715   \n",
       "277     Bali      Klungkung                   5.64    8.468    71.355   \n",
       "278     Bali         Bangli                   5.09    6.722    70.570   \n",
       "279     Bali    Karang Asem                   6.78   16.453    70.500   \n",
       "280     Bali       Buleleng                   6.12   33.359    71.895   \n",
       "281     Bali  Kota Denpasar                   2.96   49.583    74.880   \n",
       "\n",
       "     avg_schooltime  exp_percap  \n",
       "273            8.35       11675  \n",
       "274            9.14       14326  \n",
       "275           10.62       17327  \n",
       "276            9.29       14391  \n",
       "277            8.14       11287  \n",
       "278            7.18       11201  \n",
       "279            6.33       10175  \n",
       "280            7.25       13362  \n",
       "281           11.48       19598  "
      ]
     },
     "execution_count": 5,
     "metadata": {},
     "output_type": "execute_result"
    }
   ],
   "source": [
    "df[(df['life_exp'] > 70) & (df['province'] == 'Bali')]"
   ]
  },
  {
   "cell_type": "markdown",
   "id": "ac8c65c0-70ee-4435-91c6-1e044e3dec14",
   "metadata": {},
   "source": [
    "* Conclusion: The percentage of poverty in Bali regions where life expectancy is over 70 years is less than 6.78%"
   ]
  },
  {
   "cell_type": "code",
   "execution_count": 6,
   "id": "2f80bc43-86ed-4e71-a364-ba92931737b4",
   "metadata": {},
   "outputs": [
    {
     "data": {
      "text/plain": [
       "province\n",
       "Papua             16\n",
       "Jawa Timur         4\n",
       "Papua Barat        2\n",
       "Sumatera Utara     1\n",
       "Name: count, dtype: int64"
      ]
     },
     "execution_count": 6,
     "metadata": {},
     "output_type": "execute_result"
    }
   ],
   "source": [
    "df[df['avg_schooltime'] <= 6]['province'].value_counts()"
   ]
  },
  {
   "cell_type": "markdown",
   "id": "7860d56a-c803-49b3-866d-b7c6debbcf34",
   "metadata": {},
   "source": [
    "* Conclusion: Most of the regions where the duration of education was less than 6 years are located in the province of Papua (16 times)"
   ]
  },
  {
   "cell_type": "code",
   "execution_count": 7,
   "id": "24e9c492-f4b5-4bdb-b9a7-aae76809bbf8",
   "metadata": {},
   "outputs": [
    {
     "data": {
      "text/plain": [
       "73.94"
      ]
     },
     "execution_count": 7,
     "metadata": {},
     "output_type": "execute_result"
    }
   ],
   "source": [
    "df[df['exp_percap'] >= 20000]['life_exp'].mean()"
   ]
  },
  {
   "cell_type": "markdown",
   "id": "90a050b2-3b30-4a1c-9e5f-ed631dac053d",
   "metadata": {},
   "source": [
    "* Conclusion: The average life expectancy of people in regions where per capita expenditures amount to more than 20,000 thousand rupiah per year is 73.94 years"
   ]
  },
  {
   "cell_type": "code",
   "execution_count": 8,
   "id": "009b1665-c99c-4e6e-a946-1d964cbdfbd6",
   "metadata": {},
   "outputs": [
    {
     "data": {
      "text/plain": [
       "2.38"
      ]
     },
     "execution_count": 8,
     "metadata": {},
     "output_type": "execute_result"
    }
   ],
   "source": [
    "df[df['reg_gdp'] <= df['reg_gdp'].median()]['poorpeople_percentage'].min()"
   ]
  },
  {
   "cell_type": "markdown",
   "id": "86daa48c-ffd5-4465-b27e-1d252af54bb3",
   "metadata": {},
   "source": [
    "* Conclusion: The minimum percentage of poverty in regions where GDP is less than the median value is 2.38%"
   ]
  },
  {
   "cell_type": "markdown",
   "id": "c052215d-70b9-4feb-ab96-cbe058481fad",
   "metadata": {},
   "source": [
    "**STAGE 2. Part 3**"
   ]
  },
  {
   "cell_type": "code",
   "execution_count": 9,
   "id": "82d3aae0-81fc-4ef8-985c-78975d0d3e94",
   "metadata": {},
   "outputs": [
    {
     "data": {
      "text/plain": [
       "511    41.66\n",
       "512    40.59\n",
       "506    38.73\n",
       "503    37.91\n",
       "497    37.64\n",
       "       ...  \n",
       "142     2.75\n",
       "275     2.62\n",
       "183     2.58\n",
       "272     2.57\n",
       "70      2.38\n",
       "Name: poorpeople_percentage, Length: 514, dtype: float64"
      ]
     },
     "execution_count": 9,
     "metadata": {},
     "output_type": "execute_result"
    }
   ],
   "source": [
    "df['poorpeople_percentage'].sort_values(ascending=False)"
   ]
  },
  {
   "cell_type": "markdown",
   "id": "c0778545-fdd8-4cb1-9bf4-9663256c946d",
   "metadata": {},
   "source": [
    "* Conclusion: The poverty rate of more than 40% is observed in 2 cities"
   ]
  },
  {
   "cell_type": "code",
   "execution_count": 10,
   "id": "183d346c-c2e8-4a41-80fe-51bc0b62fbf9",
   "metadata": {},
   "outputs": [
    {
     "data": {
      "text/html": [
       "<div>\n",
       "<style scoped>\n",
       "    .dataframe tbody tr th:only-of-type {\n",
       "        vertical-align: middle;\n",
       "    }\n",
       "\n",
       "    .dataframe tbody tr th {\n",
       "        vertical-align: top;\n",
       "    }\n",
       "\n",
       "    .dataframe thead th {\n",
       "        text-align: right;\n",
       "    }\n",
       "</style>\n",
       "<table border=\"1\" class=\"dataframe\">\n",
       "  <thead>\n",
       "    <tr style=\"text-align: right;\">\n",
       "      <th></th>\n",
       "      <th>province</th>\n",
       "      <th>cities_reg</th>\n",
       "      <th>poorpeople_percentage</th>\n",
       "      <th>reg_gdp</th>\n",
       "      <th>life_exp</th>\n",
       "      <th>avg_schooltime</th>\n",
       "      <th>exp_percap</th>\n",
       "    </tr>\n",
       "  </thead>\n",
       "  <tbody>\n",
       "    <tr>\n",
       "      <th>18</th>\n",
       "      <td>Aceh</td>\n",
       "      <td>Kota Banda Aceh</td>\n",
       "      <td>7.61</td>\n",
       "      <td>18.288</td>\n",
       "      <td>71.470</td>\n",
       "      <td>12.83</td>\n",
       "      <td>16891</td>\n",
       "    </tr>\n",
       "    <tr>\n",
       "      <th>437</th>\n",
       "      <td>Sulawesi Tenggara</td>\n",
       "      <td>Kota Kendari</td>\n",
       "      <td>4.87</td>\n",
       "      <td>22.046</td>\n",
       "      <td>73.835</td>\n",
       "      <td>12.51</td>\n",
       "      <td>14356</td>\n",
       "    </tr>\n",
       "    <tr>\n",
       "      <th>460</th>\n",
       "      <td>Maluku</td>\n",
       "      <td>Kota Ambon</td>\n",
       "      <td>5.02</td>\n",
       "      <td>14.707</td>\n",
       "      <td>70.580</td>\n",
       "      <td>12.20</td>\n",
       "      <td>14148</td>\n",
       "    </tr>\n",
       "    <tr>\n",
       "      <th>85</th>\n",
       "      <td>Riau</td>\n",
       "      <td>Kota Pekanbaru</td>\n",
       "      <td>2.83</td>\n",
       "      <td>115.519</td>\n",
       "      <td>72.385</td>\n",
       "      <td>11.92</td>\n",
       "      <td>14360</td>\n",
       "    </tr>\n",
       "    <tr>\n",
       "      <th>272</th>\n",
       "      <td>Banten</td>\n",
       "      <td>Kota Tangerang Selatan</td>\n",
       "      <td>2.57</td>\n",
       "      <td>82.551</td>\n",
       "      <td>72.430</td>\n",
       "      <td>11.82</td>\n",
       "      <td>15751</td>\n",
       "    </tr>\n",
       "    <tr>\n",
       "      <th>...</th>\n",
       "      <td>...</td>\n",
       "      <td>...</td>\n",
       "      <td>...</td>\n",
       "      <td>...</td>\n",
       "      <td>...</td>\n",
       "      <td>...</td>\n",
       "      <td>...</td>\n",
       "    </tr>\n",
       "    <tr>\n",
       "      <th>511</th>\n",
       "      <td>Papua</td>\n",
       "      <td>Intan Jaya</td>\n",
       "      <td>41.66</td>\n",
       "      <td>1.274</td>\n",
       "      <td>65.580</td>\n",
       "      <td>3.09</td>\n",
       "      <td>5328</td>\n",
       "    </tr>\n",
       "    <tr>\n",
       "      <th>498</th>\n",
       "      <td>Papua</td>\n",
       "      <td>Pegunungan Bintang</td>\n",
       "      <td>30.46</td>\n",
       "      <td>1.969</td>\n",
       "      <td>64.415</td>\n",
       "      <td>3.04</td>\n",
       "      <td>5429</td>\n",
       "    </tr>\n",
       "    <tr>\n",
       "      <th>508</th>\n",
       "      <td>Papua</td>\n",
       "      <td>Yalimo</td>\n",
       "      <td>33.25</td>\n",
       "      <td>1.286</td>\n",
       "      <td>65.385</td>\n",
       "      <td>3.01</td>\n",
       "      <td>4664</td>\n",
       "    </tr>\n",
       "    <tr>\n",
       "      <th>509</th>\n",
       "      <td>Papua</td>\n",
       "      <td>Puncak</td>\n",
       "      <td>36.26</td>\n",
       "      <td>1.438</td>\n",
       "      <td>66.060</td>\n",
       "      <td>2.16</td>\n",
       "      <td>5412</td>\n",
       "    </tr>\n",
       "    <tr>\n",
       "      <th>505</th>\n",
       "      <td>Papua</td>\n",
       "      <td>Nduga</td>\n",
       "      <td>37.18</td>\n",
       "      <td>1.271</td>\n",
       "      <td>55.370</td>\n",
       "      <td>1.42</td>\n",
       "      <td>3976</td>\n",
       "    </tr>\n",
       "  </tbody>\n",
       "</table>\n",
       "<p>514 rows × 7 columns</p>\n",
       "</div>"
      ],
      "text/plain": [
       "              province              cities_reg  poorpeople_percentage  \\\n",
       "18                Aceh         Kota Banda Aceh                   7.61   \n",
       "437  Sulawesi Tenggara            Kota Kendari                   4.87   \n",
       "460             Maluku              Kota Ambon                   5.02   \n",
       "85                Riau          Kota Pekanbaru                   2.83   \n",
       "272             Banten  Kota Tangerang Selatan                   2.57   \n",
       "..                 ...                     ...                    ...   \n",
       "511              Papua              Intan Jaya                  41.66   \n",
       "498              Papua      Pegunungan Bintang                  30.46   \n",
       "508              Papua                  Yalimo                  33.25   \n",
       "509              Papua                  Puncak                  36.26   \n",
       "505              Papua                   Nduga                  37.18   \n",
       "\n",
       "     reg_gdp  life_exp  avg_schooltime  exp_percap  \n",
       "18    18.288    71.470           12.83       16891  \n",
       "437   22.046    73.835           12.51       14356  \n",
       "460   14.707    70.580           12.20       14148  \n",
       "85   115.519    72.385           11.92       14360  \n",
       "272   82.551    72.430           11.82       15751  \n",
       "..       ...       ...             ...         ...  \n",
       "511    1.274    65.580            3.09        5328  \n",
       "498    1.969    64.415            3.04        5429  \n",
       "508    1.286    65.385            3.01        4664  \n",
       "509    1.438    66.060            2.16        5412  \n",
       "505    1.271    55.370            1.42        3976  \n",
       "\n",
       "[514 rows x 7 columns]"
      ]
     },
     "execution_count": 10,
     "metadata": {},
     "output_type": "execute_result"
    }
   ],
   "source": [
    "df.sort_values('avg_schooltime', ascending=False)"
   ]
  },
  {
   "cell_type": "markdown",
   "id": "32632d8b-66fe-448c-9101-1ccb2dd3d803",
   "metadata": {},
   "source": [
    "* Conclusion: In a region with a maximum duration of education, per capita expenditure is 4.25 times higher than with a minimum education"
   ]
  },
  {
   "cell_type": "code",
   "execution_count": 11,
   "id": "e6d9e388-62ea-4b67-9bc6-3c10daa670ec",
   "metadata": {},
   "outputs": [
    {
     "data": {
      "text/html": [
       "<div>\n",
       "<style scoped>\n",
       "    .dataframe tbody tr th:only-of-type {\n",
       "        vertical-align: middle;\n",
       "    }\n",
       "\n",
       "    .dataframe tbody tr th {\n",
       "        vertical-align: top;\n",
       "    }\n",
       "\n",
       "    .dataframe thead th {\n",
       "        text-align: right;\n",
       "    }\n",
       "</style>\n",
       "<table border=\"1\" class=\"dataframe\">\n",
       "  <thead>\n",
       "    <tr style=\"text-align: right;\">\n",
       "      <th></th>\n",
       "      <th>province</th>\n",
       "      <th>cities_reg</th>\n",
       "      <th>poorpeople_percentage</th>\n",
       "      <th>reg_gdp</th>\n",
       "      <th>life_exp</th>\n",
       "      <th>avg_schooltime</th>\n",
       "      <th>exp_percap</th>\n",
       "    </tr>\n",
       "  </thead>\n",
       "  <tbody>\n",
       "    <tr>\n",
       "      <th>503</th>\n",
       "      <td>Papua</td>\n",
       "      <td>Supiori</td>\n",
       "      <td>37.91</td>\n",
       "      <td>1.042</td>\n",
       "      <td>66.055</td>\n",
       "      <td>8.87</td>\n",
       "      <td>5708</td>\n",
       "    </tr>\n",
       "    <tr>\n",
       "      <th>307</th>\n",
       "      <td>Nusa Tenggara Timur</td>\n",
       "      <td>Sumba Tengah</td>\n",
       "      <td>34.27</td>\n",
       "      <td>1.196</td>\n",
       "      <td>68.380</td>\n",
       "      <td>6.47</td>\n",
       "      <td>6061</td>\n",
       "    </tr>\n",
       "    <tr>\n",
       "      <th>38</th>\n",
       "      <td>Sumatera Utara</td>\n",
       "      <td>Pakpak Bharat</td>\n",
       "      <td>9.35</td>\n",
       "      <td>1.211</td>\n",
       "      <td>65.890</td>\n",
       "      <td>9.14</td>\n",
       "      <td>8254</td>\n",
       "    </tr>\n",
       "    <tr>\n",
       "      <th>507</th>\n",
       "      <td>Papua</td>\n",
       "      <td>Mamberamo Tengah</td>\n",
       "      <td>36.76</td>\n",
       "      <td>1.215</td>\n",
       "      <td>63.750</td>\n",
       "      <td>3.33</td>\n",
       "      <td>4487</td>\n",
       "    </tr>\n",
       "    <tr>\n",
       "      <th>505</th>\n",
       "      <td>Papua</td>\n",
       "      <td>Nduga</td>\n",
       "      <td>37.18</td>\n",
       "      <td>1.271</td>\n",
       "      <td>55.370</td>\n",
       "      <td>1.42</td>\n",
       "      <td>3976</td>\n",
       "    </tr>\n",
       "    <tr>\n",
       "      <th>...</th>\n",
       "      <td>...</td>\n",
       "      <td>...</td>\n",
       "      <td>...</td>\n",
       "      <td>...</td>\n",
       "      <td>...</td>\n",
       "      <td>...</td>\n",
       "      <td>...</td>\n",
       "    </tr>\n",
       "    <tr>\n",
       "      <th>263</th>\n",
       "      <td>Jawa Timur</td>\n",
       "      <td>Kota Surabaya</td>\n",
       "      <td>5.23</td>\n",
       "      <td>554.509</td>\n",
       "      <td>74.120</td>\n",
       "      <td>10.50</td>\n",
       "      <td>17862</td>\n",
       "    </tr>\n",
       "    <tr>\n",
       "      <th>155</th>\n",
       "      <td>DKI Jakarta</td>\n",
       "      <td>Kota Jakarta Selatan</td>\n",
       "      <td>3.56</td>\n",
       "      <td>644.572</td>\n",
       "      <td>74.225</td>\n",
       "      <td>11.64</td>\n",
       "      <td>23888</td>\n",
       "    </tr>\n",
       "    <tr>\n",
       "      <th>157</th>\n",
       "      <td>DKI Jakarta</td>\n",
       "      <td>Kota Jakarta Pusat</td>\n",
       "      <td>4.94</td>\n",
       "      <td>701.980</td>\n",
       "      <td>74.150</td>\n",
       "      <td>11.39</td>\n",
       "      <td>17365</td>\n",
       "    </tr>\n",
       "    <tr>\n",
       "      <th>481</th>\n",
       "      <td>Papua Barat</td>\n",
       "      <td>Maybrat</td>\n",
       "      <td>31.39</td>\n",
       "      <td>732.000</td>\n",
       "      <td>65.240</td>\n",
       "      <td>6.96</td>\n",
       "      <td>5245</td>\n",
       "    </tr>\n",
       "    <tr>\n",
       "      <th>482</th>\n",
       "      <td>Papua Barat</td>\n",
       "      <td>Manokwari Selatan</td>\n",
       "      <td>29.30</td>\n",
       "      <td>819.000</td>\n",
       "      <td>67.600</td>\n",
       "      <td>6.63</td>\n",
       "      <td>5505</td>\n",
       "    </tr>\n",
       "  </tbody>\n",
       "</table>\n",
       "<p>514 rows × 7 columns</p>\n",
       "</div>"
      ],
      "text/plain": [
       "                province            cities_reg  poorpeople_percentage  \\\n",
       "503                Papua               Supiori                  37.91   \n",
       "307  Nusa Tenggara Timur          Sumba Tengah                  34.27   \n",
       "38        Sumatera Utara         Pakpak Bharat                   9.35   \n",
       "507                Papua      Mamberamo Tengah                  36.76   \n",
       "505                Papua                 Nduga                  37.18   \n",
       "..                   ...                   ...                    ...   \n",
       "263           Jawa Timur         Kota Surabaya                   5.23   \n",
       "155          DKI Jakarta  Kota Jakarta Selatan                   3.56   \n",
       "157          DKI Jakarta    Kota Jakarta Pusat                   4.94   \n",
       "481          Papua Barat               Maybrat                  31.39   \n",
       "482          Papua Barat     Manokwari Selatan                  29.30   \n",
       "\n",
       "     reg_gdp  life_exp  avg_schooltime  exp_percap  \n",
       "503    1.042    66.055            8.87        5708  \n",
       "307    1.196    68.380            6.47        6061  \n",
       "38     1.211    65.890            9.14        8254  \n",
       "507    1.215    63.750            3.33        4487  \n",
       "505    1.271    55.370            1.42        3976  \n",
       "..       ...       ...             ...         ...  \n",
       "263  554.509    74.120           10.50       17862  \n",
       "155  644.572    74.225           11.64       23888  \n",
       "157  701.980    74.150           11.39       17365  \n",
       "481  732.000    65.240            6.96        5245  \n",
       "482  819.000    67.600            6.63        5505  \n",
       "\n",
       "[514 rows x 7 columns]"
      ]
     },
     "execution_count": 11,
     "metadata": {},
     "output_type": "execute_result"
    }
   ],
   "source": [
    "df.sort_values('reg_gdp')"
   ]
  },
  {
   "cell_type": "markdown",
   "id": "57746919-3efd-4db2-816b-e7110e629d1f",
   "metadata": {},
   "source": [
    "* Conclusion: Supiori - the regency with the lowest GDP (1.042 million rupiah)"
   ]
  },
  {
   "cell_type": "markdown",
   "id": "ea79a3ff-265c-46d3-aa4e-08217e2146da",
   "metadata": {},
   "source": [
    "**STAGE 2. Part 4**"
   ]
  },
  {
   "cell_type": "code",
   "execution_count": 12,
   "id": "ed9e0bd9-31da-49d3-8914-ed76d698657d",
   "metadata": {},
   "outputs": [
    {
     "data": {
      "text/plain": [
       "province\n",
       "Jawa Timur                   38\n",
       "Jawa Tengah                  35\n",
       "Sumatera Utara               33\n",
       "Papua                        29\n",
       "Jawa Barat                   27\n",
       "Sulawesi Selatan             24\n",
       "Aceh                         23\n",
       "Nusa Tenggara Timur          22\n",
       "Sumatera Barat               19\n",
       "Sulawesi Tenggara            17\n",
       "Sumatera Selatan             17\n",
       "Lampung                      15\n",
       "Sulawesi Utara               15\n",
       "Kalimantan Barat             14\n",
       "Kalimantan Tengah            14\n",
       "Sulawesi Tengah              13\n",
       "Papua Barat                  13\n",
       "Kalimantan Selatan           13\n",
       "Riau                         12\n",
       "Jambi                        11\n",
       "Maluku                       11\n",
       "Bengkulu                     10\n",
       "Maluku Utara                 10\n",
       "Nusa Tenggara Barat          10\n",
       "Kalimantan Timur             10\n",
       "Bali                          9\n",
       "Banten                        8\n",
       "Kepulauan Riau                7\n",
       "Kepulauan Bangka Belitung     7\n",
       "DKI Jakarta                   6\n",
       "Gorontalo                     6\n",
       "Sulawesi Barat                6\n",
       "Kalimantan Utara              5\n",
       "DI Yogyakarta                 5\n",
       "Name: count, dtype: int64"
      ]
     },
     "execution_count": 12,
     "metadata": {},
     "output_type": "execute_result"
    }
   ],
   "source": [
    "df['province'].value_counts()"
   ]
  },
  {
   "cell_type": "markdown",
   "id": "99bc9ed6-abca-48a0-be5f-956fe7fd3734",
   "metadata": {},
   "source": [
    "* Conclusion: Jawa Timur - the most common province"
   ]
  },
  {
   "cell_type": "code",
   "execution_count": 13,
   "id": "c7e17065-2b33-4505-aaef-62d3f83f96c0",
   "metadata": {},
   "outputs": [
    {
     "data": {
      "text/plain": [
       "<Axes: >"
      ]
     },
     "execution_count": 13,
     "metadata": {},
     "output_type": "execute_result"
    },
    {
     "data": {
      "image/png": "[encoded data removed]",
      "text/plain": [
       "<Figure size 640x480 with 1 Axes>"
      ]
     },
     "metadata": {},
     "output_type": "display_data"
    }
   ],
   "source": [
    "df['avg_schooltime'].hist() "
   ]
  },
  {
   "cell_type": "markdown",
   "id": "cededd4a-4ae8-4499-8ca1-fb197d343f7f",
   "metadata": {},
   "source": [
    "* Conclusion: The most frequent duration of education is in the range from 7 to 8 years"
   ]
  },
  {
   "cell_type": "code",
   "execution_count": 14,
   "id": "04a02aa8-1cbc-4df9-ac75-8edecb592eb3",
   "metadata": {},
   "outputs": [
    {
     "data": {
      "text/plain": [
       "<Axes: >"
      ]
     },
     "execution_count": 14,
     "metadata": {},
     "output_type": "execute_result"
    },
    {
     "data": {
      "image/png": "[encoded data removed]",
      "text/plain": [
       "<Figure size 640x480 with 1 Axes>"
      ]
     },
     "metadata": {},
     "output_type": "display_data"
    }
   ],
   "source": [
    "df['life_exp'].hist()"
   ]
  },
  {
   "cell_type": "markdown",
   "id": "eff48877-d72e-4372-af54-f380881d37d0",
   "metadata": {},
   "source": [
    "* Conclusion: Regions with a life expectancy from 55 to 60 are significantly less than regions with a value from 70 to 75"
   ]
  },
  {
   "cell_type": "markdown",
   "id": "41f8d9ad-165c-48d9-a968-40971168b9e3",
   "metadata": {},
   "source": [
    "**STAGE 2. Part 5**"
   ]
  },
  {
   "cell_type": "code",
   "execution_count": 15,
   "id": "2aa98322-5283-446a-9c95-7a7785032d63",
   "metadata": {},
   "outputs": [
    {
     "data": {
      "text/plain": [
       "<Axes: >"
      ]
     },
     "execution_count": 15,
     "metadata": {},
     "output_type": "execute_result"
    },
    {
     "data": {
      "image/png": "[encoded data removed]",
      "text/plain": [
       "<Figure size 640x480 with 1 Axes>"
      ]
     },
     "metadata": {},
     "output_type": "display_data"
    }
   ],
   "source": [
    "df[(df['poorpeople_percentage'] < 10) & (df['avg_schooltime'] > 11.00)]['exp_percap'].hist()"
   ]
  },
  {
   "cell_type": "markdown",
   "id": "07eca048-21ce-4591-851d-a0001395891b",
   "metadata": {},
   "source": [
    "* Conclusion: The per capita expenditure of almost 24,000 thousand rupiah is found only in one region where the level of education is more than 11 years old and poverty is less than 10%"
   ]
  },
  {
   "cell_type": "code",
   "execution_count": 16,
   "id": "d1f6f035-a7e1-40d8-9d23-94ba3c16dd73",
   "metadata": {},
   "outputs": [
    {
     "data": {
      "text/plain": [
       "<Axes: >"
      ]
     },
     "execution_count": 16,
     "metadata": {},
     "output_type": "execute_result"
    },
    {
     "data": {
      "image/png": "[encoded data removed]",
      "text/plain": [
       "<Figure size 640x480 with 1 Axes>"
      ]
     },
     "metadata": {},
     "output_type": "display_data"
    }
   ],
   "source": [
    "df[(df['life_exp'] > 70) & (df['province'] == 'Bali')]['reg_gdp'].hist()"
   ]
  },
  {
   "cell_type": "markdown",
   "id": "5c87ea6c-9f32-4ea5-a76a-980da0f60113",
   "metadata": {},
   "source": [
    "* Conclusion: Bali has two regions with a life expectancy of more than 70 years, where the GRP almost reaches 50 million rupees"
   ]
  },
  {
   "cell_type": "code",
   "execution_count": 17,
   "id": "31993f80-6102-4428-8cf7-901719211240",
   "metadata": {},
   "outputs": [
    {
     "data": {
      "text/plain": [
       "province     cities_reg            poorpeople_percentage  reg_gdp  life_exp  avg_schooltime  exp_percap\n",
       "DKI Jakarta  Kota Jakarta Barat    4.31                   469.918  73.655    10.78           20801         1\n",
       "             Kota Jakarta Selatan  3.56                   644.572  74.225    11.64           23888         1\n",
       "Name: count, dtype: int64"
      ]
     },
     "execution_count": 17,
     "metadata": {},
     "output_type": "execute_result"
    }
   ],
   "source": [
    "df[df['exp_percap'] >= 20000].groupby('province').value_counts()"
   ]
  },
  {
   "cell_type": "markdown",
   "id": "cfb4c3c8-1ebf-40b4-b6e3-88d2fc3ce5df",
   "metadata": {},
   "source": [
    "* Conclusion: DKI Jakarta - a province where per capita spending exceeds 20,000 thousand rupiah. From observations, there are 2 regions there"
   ]
  },
  {
   "cell_type": "markdown",
   "id": "b962f8c7-69cf-4486-897f-bfbde05c9859",
   "metadata": {},
   "source": [
    "**STAGE 2. Part 6**"
   ]
  },
  {
   "cell_type": "markdown",
   "id": "02cc6b8c-0ce7-447b-9554-e392ab43c237",
   "metadata": {},
   "source": [
    "We have divided the percentage of poverty into three levels: low - up to 10% inclusive, medium - from 10% to 30% and high - above 30%"
   ]
  },
  {
   "cell_type": "code",
   "execution_count": 18,
   "id": "b7fa9f24-0d58-412d-93a1-6b46fa768c1d",
   "metadata": {},
   "outputs": [],
   "source": [
    "def poverty_status(x):\n",
    "    if x <= 10.00:\n",
    "        return 'low'\n",
    "    if 10.00 < x < 30.00:\n",
    "        return 'medium'\n",
    "    if x >= 30.00:\n",
    "        return 'high'"
   ]
  },
  {
   "cell_type": "code",
   "execution_count": 19,
   "id": "b892cd39-5572-4bed-a688-6aa932e98eb0",
   "metadata": {},
   "outputs": [
    {
     "data": {
      "text/plain": [
       "poverty_status\n",
       "medium    256\n",
       "low       238\n",
       "high       20\n",
       "Name: count, dtype: int64"
      ]
     },
     "execution_count": 19,
     "metadata": {},
     "output_type": "execute_result"
    }
   ],
   "source": [
    "df['poverty_status'] = df['poorpeople_percentage'].apply(poverty_status)\n",
    "df['poverty_status'].value_counts()"
   ]
  },
  {
   "cell_type": "markdown",
   "id": "654cebd3-2e9c-47cb-8aa4-e46b8068b98b",
   "metadata": {},
   "source": [
    "* Conclusion: There are only 20 regions with high poverty status"
   ]
  },
  {
   "cell_type": "markdown",
   "id": "544f8e8f-416b-4304-8340-f21541477e0f",
   "metadata": {},
   "source": [
    "Studying in Indonesia lasts 12 years (although there are two observations in the dataset where the duration of training is more than 12 years, perhaps some preparatory courses are included there): 6 years in elementary school, 3 years in middle school and 3 years in high school. We have added a new column with the average level of school education in the region: primary, secondary, high."
   ]
  },
  {
   "cell_type": "code",
   "execution_count": 20,
   "id": "1f80bbc3-2690-4c2d-b6b1-71118279c5b6",
   "metadata": {},
   "outputs": [],
   "source": [
    "def edu_status(x):\n",
    "    if x <= 6:\n",
    "        return 'primary'\n",
    "    if 6 < x <= 9:\n",
    "        return 'secondary'\n",
    "    if x > 9:\n",
    "        return 'high'"
   ]
  },
  {
   "cell_type": "code",
   "execution_count": 21,
   "id": "5ecb8db4-6231-4138-88d6-489cba4219fe",
   "metadata": {},
   "outputs": [
    {
     "data": {
      "text/plain": [
       "edu_status\n",
       "secondary    334\n",
       "high         157\n",
       "primary       23\n",
       "Name: count, dtype: int64"
      ]
     },
     "execution_count": 21,
     "metadata": {},
     "output_type": "execute_result"
    }
   ],
   "source": [
    "df['edu_status'] = df['avg_schooltime'].apply(edu_status)\n",
    "df['edu_status'].value_counts()"
   ]
  },
  {
   "cell_type": "code",
   "execution_count": 22,
   "id": "e03c78e1-b22a-4c4f-80c9-faa6931276e8",
   "metadata": {},
   "outputs": [
    {
     "data": {
      "text/plain": [
       "0.6498054474708171"
      ]
     },
     "execution_count": 22,
     "metadata": {},
     "output_type": "execute_result"
    }
   ],
   "source": [
    "334 / 514"
   ]
  },
  {
   "cell_type": "markdown",
   "id": "691122bf-88e7-4113-a831-89af309b6c9d",
   "metadata": {},
   "source": [
    "* Conclusion: 65% of regions where the level of education is average (that is, it includes both primary and secondary)"
   ]
  },
  {
   "cell_type": "markdown",
   "id": "ca311997-05a6-4d7c-adf3-795aae1f7ec2",
   "metadata": {},
   "source": [
    "**STAGE 3. Part 1**"
   ]
  },
  {
   "cell_type": "code",
   "execution_count": 23,
   "id": "63b47c89-533d-4387-82c4-ed090978ef67",
   "metadata": {},
   "outputs": [
    {
     "data": {
      "text/plain": [
       "69.61907587548639"
      ]
     },
     "execution_count": 23,
     "metadata": {},
     "output_type": "execute_result"
    }
   ],
   "source": [
    "df['life_exp'].mean()"
   ]
  },
  {
   "cell_type": "markdown",
   "id": "37bb583e-5813-42a4-bbe4-8d5f5d15d2a3",
   "metadata": {},
   "source": [
    "* Conclusion: 69.6 years is the average life expectancy, which indicates that people live to old age"
   ]
  },
  {
   "cell_type": "code",
   "execution_count": 24,
   "id": "94132b47-949f-4d64-8692-0100034020a7",
   "metadata": {},
   "outputs": [
    {
     "data": {
      "text/plain": [
       "0    Jawa Timur\n",
       "Name: province, dtype: object"
      ]
     },
     "execution_count": 24,
     "metadata": {},
     "output_type": "execute_result"
    }
   ],
   "source": [
    "df['province'].mode()"
   ]
  },
  {
   "cell_type": "markdown",
   "id": "32e104d5-cdd6-4422-ab7d-eea640ad895a",
   "metadata": {},
   "source": [
    "* Conclusion: Jawa Timur - the most common province"
   ]
  },
  {
   "cell_type": "code",
   "execution_count": 25,
   "id": "c185db8d-96b7-4d59-bc86-ce687f33f58b",
   "metadata": {},
   "outputs": [
    {
     "data": {
      "text/plain": [
       "13.0685"
      ]
     },
     "execution_count": 25,
     "metadata": {},
     "output_type": "execute_result"
    }
   ],
   "source": [
    "df['reg_gdp'].median()"
   ]
  },
  {
   "cell_type": "markdown",
   "id": "43a1e951-b97d-4ff2-aa8d-c995220469bf",
   "metadata": {},
   "source": [
    "* Conclusion: 13.1 million rupees is the median income, 50% of the observed regions of Indonesia have a GDP below 13.1"
   ]
  },
  {
   "cell_type": "code",
   "execution_count": 26,
   "id": "566b2f58-d058-4690-a2be-0bbb12a27148",
   "metadata": {},
   "outputs": [
    {
     "data": {
      "text/plain": [
       "34.798332684824906"
      ]
     },
     "execution_count": 26,
     "metadata": {},
     "output_type": "execute_result"
    }
   ],
   "source": [
    "df['reg_gdp'].mean()"
   ]
  },
  {
   "cell_type": "markdown",
   "id": "ea06b737-9006-455c-a1c9-c7dd6a82b05c",
   "metadata": {},
   "source": [
    "* Conclusion: The average GDP is significantly higher than the median, most likely there are regions with extremely high GDP in the sample"
   ]
  },
  {
   "cell_type": "code",
   "execution_count": 27,
   "id": "6dea79ea-6162-46aa-bbef-19aa4aeaa5bf",
   "metadata": {},
   "outputs": [
    {
     "data": {
      "text/plain": [
       "10196.5"
      ]
     },
     "execution_count": 27,
     "metadata": {},
     "output_type": "execute_result"
    }
   ],
   "source": [
    "df['exp_percap'].median()"
   ]
  },
  {
   "cell_type": "code",
   "execution_count": 28,
   "id": "a9066171-ca85-40b5-a034-5d7b4d0113cf",
   "metadata": {},
   "outputs": [
    {
     "data": {
      "text/plain": [
       "10324.787937743191"
      ]
     },
     "execution_count": 28,
     "metadata": {},
     "output_type": "execute_result"
    }
   ],
   "source": [
    "df['exp_percap'].mean()"
   ]
  },
  {
   "cell_type": "markdown",
   "id": "447a75cd-f101-4d04-9bea-df663c5a9b9f",
   "metadata": {},
   "source": [
    "* Conclusion: The mean and median are practically the same, which suggests that the distribution of data is almost symmetrical, but there are a couple of regions where per capita spending is high, because the mean is higher than the median"
   ]
  },
  {
   "cell_type": "markdown",
   "id": "aeca9cee-190c-4781-819c-28350916123a",
   "metadata": {},
   "source": [
    "**STAGE 3. Part 2**"
   ]
  },
  {
   "cell_type": "code",
   "execution_count": 29,
   "id": "efbd90a1-7a52-4c76-a69a-528af621e1e9",
   "metadata": {},
   "outputs": [
    {
     "name": "stdout",
     "output_type": "stream",
     "text": [
      "Requirement already satisfied: seaborn==0.13.0 in d:\\anaconda\\anaconda3\\lib\\site-packages (0.13.0)\n",
      "Requirement already satisfied: numpy!=1.24.0,>=1.20 in d:\\anaconda\\anaconda3\\lib\\site-packages (from seaborn==0.13.0) (1.26.4)\n",
      "Requirement already satisfied: pandas>=1.2 in d:\\anaconda\\anaconda3\\lib\\site-packages (from seaborn==0.13.0) (2.1.4)\n",
      "Requirement already satisfied: matplotlib!=3.6.1,>=3.3 in d:\\anaconda\\anaconda3\\lib\\site-packages (from seaborn==0.13.0) (3.8.0)\n",
      "Requirement already satisfied: contourpy>=1.0.1 in d:\\anaconda\\anaconda3\\lib\\site-packages (from matplotlib!=3.6.1,>=3.3->seaborn==0.13.0) (1.2.0)\n",
      "Requirement already satisfied: cycler>=0.10 in d:\\anaconda\\anaconda3\\lib\\site-packages (from matplotlib!=3.6.1,>=3.3->seaborn==0.13.0) (0.11.0)\n",
      "Requirement already satisfied: fonttools>=4.22.0 in d:\\anaconda\\anaconda3\\lib\\site-packages (from matplotlib!=3.6.1,>=3.3->seaborn==0.13.0) (4.25.0)\n",
      "Requirement already satisfied: kiwisolver>=1.0.1 in d:\\anaconda\\anaconda3\\lib\\site-packages (from matplotlib!=3.6.1,>=3.3->seaborn==0.13.0) (1.4.4)\n",
      "Requirement already satisfied: packaging>=20.0 in d:\\anaconda\\anaconda3\\lib\\site-packages (from matplotlib!=3.6.1,>=3.3->seaborn==0.13.0) (23.1)\n",
      "Requirement already satisfied: pillow>=6.2.0 in d:\\anaconda\\anaconda3\\lib\\site-packages (from matplotlib!=3.6.1,>=3.3->seaborn==0.13.0) (10.2.0)\n",
      "Requirement already satisfied: pyparsing>=2.3.1 in d:\\anaconda\\anaconda3\\lib\\site-packages (from matplotlib!=3.6.1,>=3.3->seaborn==0.13.0) (3.0.9)\n",
      "Requirement already satisfied: python-dateutil>=2.7 in d:\\anaconda\\anaconda3\\lib\\site-packages (from matplotlib!=3.6.1,>=3.3->seaborn==0.13.0) (2.8.2)\n",
      "Requirement already satisfied: pytz>=2020.1 in d:\\anaconda\\anaconda3\\lib\\site-packages (from pandas>=1.2->seaborn==0.13.0) (2023.3.post1)\n",
      "Requirement already satisfied: tzdata>=2022.1 in d:\\anaconda\\anaconda3\\lib\\site-packages (from pandas>=1.2->seaborn==0.13.0) (2023.3)\n",
      "Requirement already satisfied: six>=1.5 in d:\\anaconda\\anaconda3\\lib\\site-packages (from python-dateutil>=2.7->matplotlib!=3.6.1,>=3.3->seaborn==0.13.0) (1.16.0)\n"
     ]
    }
   ],
   "source": [
    "!pip3 install seaborn==0.13.0\n",
    "import seaborn as sns"
   ]
  },
  {
   "cell_type": "code",
   "execution_count": 30,
   "id": "f30918e0-aaf1-473b-9c98-e0f9b4a055cb",
   "metadata": {},
   "outputs": [
    {
     "data": {
      "text/plain": [
       "<Axes: xlabel='exp_percap'>"
      ]
     },
     "execution_count": 30,
     "metadata": {},
     "output_type": "execute_result"
    },
    {
     "data": {
      "image/png": "[encoded data removed]",
      "text/plain": [
       "<Figure size 640x480 with 1 Axes>"
      ]
     },
     "metadata": {},
     "output_type": "display_data"
    }
   ],
   "source": [
    "sns.boxplot(x=df['exp_percap'], data=df)"
   ]
  },
  {
   "cell_type": "markdown",
   "id": "7a19d99a-53c9-4d66-81e1-60ce129697a3",
   "metadata": {},
   "source": [
    "* Conclusion: In the per capita expenditure observation, there are outliers starting at about 16250"
   ]
  },
  {
   "cell_type": "code",
   "execution_count": 31,
   "id": "a321c85b-8410-43ef-b583-604254945881",
   "metadata": {},
   "outputs": [
    {
     "data": {
      "text/plain": [
       "<Axes: xlabel='life_exp'>"
      ]
     },
     "execution_count": 31,
     "metadata": {},
     "output_type": "execute_result"
    },
    {
     "data": {
      "image/png": "[encoded data removed]",
      "text/plain": [
       "<Figure size 640x480 with 1 Axes>"
      ]
     },
     "metadata": {},
     "output_type": "display_data"
    }
   ],
   "source": [
    "sns.boxplot(x=df['life_exp'], data=df)"
   ]
  },
  {
   "cell_type": "markdown",
   "id": "7bdb108c-7b4c-48b9-be84-59fc6bee7472",
   "metadata": {},
   "source": [
    "* Conclusion: Data from 55 to 60 years (approximately) are considered outliers in the life expectancy column"
   ]
  },
  {
   "cell_type": "code",
   "execution_count": 32,
   "id": "2fd146f3-00bf-4cf9-a801-d762bd9f756d",
   "metadata": {},
   "outputs": [
    {
     "data": {
      "text/plain": [
       "<Axes: xlabel='avg_schooltime'>"
      ]
     },
     "execution_count": 32,
     "metadata": {},
     "output_type": "execute_result"
    },
    {
     "data": {
      "image/png": "[encoded data removed]",
      "text/plain": [
       "<Figure size 640x480 with 1 Axes>"
      ]
     },
     "metadata": {},
     "output_type": "display_data"
    }
   ],
   "source": [
    "sns.boxplot(x=df['avg_schooltime'], data=df)"
   ]
  },
  {
   "cell_type": "markdown",
   "id": "e427c74f-2f20-4121-8845-7bf88aab58ba",
   "metadata": {},
   "source": [
    "* Conclusion: In the education duration column, there are more emissions where education is low"
   ]
  },
  {
   "cell_type": "markdown",
   "id": "2a7552e0-664f-4c9f-817d-e8db39966d76",
   "metadata": {},
   "source": [
    "**STAGE 3. Part 3**"
   ]
  },
  {
   "cell_type": "markdown",
   "id": "c90b51a5-d621-49ef-b1a5-96806464fdc0",
   "metadata": {},
   "source": [
    "The standard deviation method — we will consider outliers values that differ from the average by 2 standard deviations"
   ]
  },
  {
   "cell_type": "code",
   "execution_count": 33,
   "id": "74c67502-131e-40b1-82a2-f7ff054c9597",
   "metadata": {},
   "outputs": [
    {
     "data": {
      "text/plain": [
       "(5.174931142103987, 11.698298429880449)"
      ]
     },
     "execution_count": 33,
     "metadata": {},
     "output_type": "execute_result"
    }
   ],
   "source": [
    "low_std = df['avg_schooltime'].mean() - 2 * df['avg_schooltime'].std()\n",
    "up_std = df['avg_schooltime'].mean() + 2 * df['avg_schooltime'].std()\n",
    "low_std, up_std"
   ]
  },
  {
   "cell_type": "code",
   "execution_count": 34,
   "id": "31660b5b-400c-4235-b0ab-26aa8206f918",
   "metadata": {},
   "outputs": [
    {
     "data": {
      "text/html": [
       "<div>\n",
       "<style scoped>\n",
       "    .dataframe tbody tr th:only-of-type {\n",
       "        vertical-align: middle;\n",
       "    }\n",
       "\n",
       "    .dataframe tbody tr th {\n",
       "        vertical-align: top;\n",
       "    }\n",
       "\n",
       "    .dataframe thead th {\n",
       "        text-align: right;\n",
       "    }\n",
       "</style>\n",
       "<table border=\"1\" class=\"dataframe\">\n",
       "  <thead>\n",
       "    <tr style=\"text-align: right;\">\n",
       "      <th></th>\n",
       "      <th>province</th>\n",
       "      <th>cities_reg</th>\n",
       "      <th>poorpeople_percentage</th>\n",
       "      <th>reg_gdp</th>\n",
       "      <th>life_exp</th>\n",
       "      <th>avg_schooltime</th>\n",
       "      <th>exp_percap</th>\n",
       "      <th>poverty_status</th>\n",
       "      <th>edu_status</th>\n",
       "    </tr>\n",
       "  </thead>\n",
       "  <tbody>\n",
       "    <tr>\n",
       "      <th>0</th>\n",
       "      <td>Aceh</td>\n",
       "      <td>Simeulue</td>\n",
       "      <td>18.98</td>\n",
       "      <td>2.275</td>\n",
       "      <td>65.240</td>\n",
       "      <td>9.48</td>\n",
       "      <td>7148</td>\n",
       "      <td>medium</td>\n",
       "      <td>high</td>\n",
       "    </tr>\n",
       "    <tr>\n",
       "      <th>1</th>\n",
       "      <td>Aceh</td>\n",
       "      <td>Aceh Singkil</td>\n",
       "      <td>20.36</td>\n",
       "      <td>2.425</td>\n",
       "      <td>67.355</td>\n",
       "      <td>8.68</td>\n",
       "      <td>8776</td>\n",
       "      <td>medium</td>\n",
       "      <td>secondary</td>\n",
       "    </tr>\n",
       "    <tr>\n",
       "      <th>2</th>\n",
       "      <td>Aceh</td>\n",
       "      <td>Aceh Selatan</td>\n",
       "      <td>13.18</td>\n",
       "      <td>5.531</td>\n",
       "      <td>64.360</td>\n",
       "      <td>8.88</td>\n",
       "      <td>8180</td>\n",
       "      <td>medium</td>\n",
       "      <td>secondary</td>\n",
       "    </tr>\n",
       "    <tr>\n",
       "      <th>3</th>\n",
       "      <td>Aceh</td>\n",
       "      <td>Aceh Tenggara</td>\n",
       "      <td>13.41</td>\n",
       "      <td>5.063</td>\n",
       "      <td>68.155</td>\n",
       "      <td>9.67</td>\n",
       "      <td>8030</td>\n",
       "      <td>medium</td>\n",
       "      <td>high</td>\n",
       "    </tr>\n",
       "    <tr>\n",
       "      <th>4</th>\n",
       "      <td>Aceh</td>\n",
       "      <td>Aceh Timur</td>\n",
       "      <td>14.45</td>\n",
       "      <td>10.616</td>\n",
       "      <td>68.705</td>\n",
       "      <td>8.21</td>\n",
       "      <td>8577</td>\n",
       "      <td>medium</td>\n",
       "      <td>secondary</td>\n",
       "    </tr>\n",
       "    <tr>\n",
       "      <th>...</th>\n",
       "      <td>...</td>\n",
       "      <td>...</td>\n",
       "      <td>...</td>\n",
       "      <td>...</td>\n",
       "      <td>...</td>\n",
       "      <td>...</td>\n",
       "      <td>...</td>\n",
       "      <td>...</td>\n",
       "      <td>...</td>\n",
       "    </tr>\n",
       "    <tr>\n",
       "      <th>501</th>\n",
       "      <td>Papua</td>\n",
       "      <td>Keerom</td>\n",
       "      <td>16.00</td>\n",
       "      <td>2.927</td>\n",
       "      <td>66.645</td>\n",
       "      <td>8.02</td>\n",
       "      <td>8926</td>\n",
       "      <td>medium</td>\n",
       "      <td>secondary</td>\n",
       "    </tr>\n",
       "    <tr>\n",
       "      <th>502</th>\n",
       "      <td>Papua</td>\n",
       "      <td>Waropen</td>\n",
       "      <td>29.85</td>\n",
       "      <td>2.047</td>\n",
       "      <td>66.410</td>\n",
       "      <td>9.21</td>\n",
       "      <td>6788</td>\n",
       "      <td>medium</td>\n",
       "      <td>high</td>\n",
       "    </tr>\n",
       "    <tr>\n",
       "      <th>503</th>\n",
       "      <td>Papua</td>\n",
       "      <td>Supiori</td>\n",
       "      <td>37.91</td>\n",
       "      <td>1.042</td>\n",
       "      <td>66.055</td>\n",
       "      <td>8.87</td>\n",
       "      <td>5708</td>\n",
       "      <td>high</td>\n",
       "      <td>secondary</td>\n",
       "    </tr>\n",
       "    <tr>\n",
       "      <th>504</th>\n",
       "      <td>Papua</td>\n",
       "      <td>Mamberamo Raya</td>\n",
       "      <td>28.78</td>\n",
       "      <td>1.725</td>\n",
       "      <td>57.990</td>\n",
       "      <td>5.87</td>\n",
       "      <td>4603</td>\n",
       "      <td>medium</td>\n",
       "      <td>primary</td>\n",
       "    </tr>\n",
       "    <tr>\n",
       "      <th>513</th>\n",
       "      <td>Papua</td>\n",
       "      <td>Kota Jayapura</td>\n",
       "      <td>11.39</td>\n",
       "      <td>32.207</td>\n",
       "      <td>70.455</td>\n",
       "      <td>11.57</td>\n",
       "      <td>14937</td>\n",
       "      <td>medium</td>\n",
       "      <td>high</td>\n",
       "    </tr>\n",
       "  </tbody>\n",
       "</table>\n",
       "<p>489 rows × 9 columns</p>\n",
       "</div>"
      ],
      "text/plain": [
       "    province      cities_reg  poorpeople_percentage  reg_gdp  life_exp  \\\n",
       "0       Aceh        Simeulue                  18.98    2.275    65.240   \n",
       "1       Aceh    Aceh Singkil                  20.36    2.425    67.355   \n",
       "2       Aceh    Aceh Selatan                  13.18    5.531    64.360   \n",
       "3       Aceh   Aceh Tenggara                  13.41    5.063    68.155   \n",
       "4       Aceh      Aceh Timur                  14.45   10.616    68.705   \n",
       "..       ...             ...                    ...      ...       ...   \n",
       "501    Papua          Keerom                  16.00    2.927    66.645   \n",
       "502    Papua         Waropen                  29.85    2.047    66.410   \n",
       "503    Papua         Supiori                  37.91    1.042    66.055   \n",
       "504    Papua  Mamberamo Raya                  28.78    1.725    57.990   \n",
       "513    Papua   Kota Jayapura                  11.39   32.207    70.455   \n",
       "\n",
       "     avg_schooltime  exp_percap poverty_status edu_status  \n",
       "0              9.48        7148         medium       high  \n",
       "1              8.68        8776         medium  secondary  \n",
       "2              8.88        8180         medium  secondary  \n",
       "3              9.67        8030         medium       high  \n",
       "4              8.21        8577         medium  secondary  \n",
       "..              ...         ...            ...        ...  \n",
       "501            8.02        8926         medium  secondary  \n",
       "502            9.21        6788         medium       high  \n",
       "503            8.87        5708           high  secondary  \n",
       "504            5.87        4603         medium    primary  \n",
       "513           11.57       14937         medium       high  \n",
       "\n",
       "[489 rows x 9 columns]"
      ]
     },
     "execution_count": 34,
     "metadata": {},
     "output_type": "execute_result"
    }
   ],
   "source": [
    "df[(df['avg_schooltime'] > low_std) & (df['avg_schooltime'] < up_std)]"
   ]
  },
  {
   "cell_type": "code",
   "execution_count": 35,
   "id": "e244c477-ad92-4d25-9ecd-59c3200aec41",
   "metadata": {},
   "outputs": [
    {
     "data": {
      "text/plain": [
       "0.9513618677042801"
      ]
     },
     "execution_count": 35,
     "metadata": {},
     "output_type": "execute_result"
    }
   ],
   "source": [
    "489 / 514"
   ]
  },
  {
   "cell_type": "markdown",
   "id": "a2c3d06f-929f-41cf-878b-1d2c97b1ecca",
   "metadata": {},
   "source": [
    "* Conclusion: By the method of two standard deviations, the outliers were 5%"
   ]
  },
  {
   "cell_type": "code",
   "execution_count": 36,
   "id": "517684b8-0a77-434d-b3e4-1407284a8cd2",
   "metadata": {},
   "outputs": [
    {
     "data": {
      "text/plain": [
       "count    514.000000\n",
       "mean       8.436615\n",
       "std        1.630842\n",
       "min        1.420000\n",
       "25%        7.510000\n",
       "50%        8.305000\n",
       "75%        9.337500\n",
       "max       12.830000\n",
       "Name: avg_schooltime, dtype: float64"
      ]
     },
     "execution_count": 36,
     "metadata": {},
     "output_type": "execute_result"
    }
   ],
   "source": [
    "df['avg_schooltime'].describe()"
   ]
  },
  {
   "cell_type": "code",
   "execution_count": 37,
   "id": "22efd3cb-dbbc-499c-b0c5-fef70acb55c0",
   "metadata": {},
   "outputs": [
    {
     "data": {
      "text/plain": [
       "(4.768749999999999, 12.078750000000001)"
      ]
     },
     "execution_count": 37,
     "metadata": {},
     "output_type": "execute_result"
    }
   ],
   "source": [
    "iqr = 9.337500 - 7.510000\n",
    "low_iqr = 7.510000 - 1.5 * iqr\n",
    "up_iqr = 9.337500 + 1.5 * iqr\n",
    "low_iqr, up_iqr"
   ]
  },
  {
   "cell_type": "code",
   "execution_count": 38,
   "id": "ed1500de-f349-4e56-89ca-e82a6c35193f",
   "metadata": {},
   "outputs": [
    {
     "data": {
      "text/html": [
       "<div>\n",
       "<style scoped>\n",
       "    .dataframe tbody tr th:only-of-type {\n",
       "        vertical-align: middle;\n",
       "    }\n",
       "\n",
       "    .dataframe tbody tr th {\n",
       "        vertical-align: top;\n",
       "    }\n",
       "\n",
       "    .dataframe thead th {\n",
       "        text-align: right;\n",
       "    }\n",
       "</style>\n",
       "<table border=\"1\" class=\"dataframe\">\n",
       "  <thead>\n",
       "    <tr style=\"text-align: right;\">\n",
       "      <th></th>\n",
       "      <th>province</th>\n",
       "      <th>cities_reg</th>\n",
       "      <th>poorpeople_percentage</th>\n",
       "      <th>reg_gdp</th>\n",
       "      <th>life_exp</th>\n",
       "      <th>avg_schooltime</th>\n",
       "      <th>exp_percap</th>\n",
       "      <th>poverty_status</th>\n",
       "      <th>edu_status</th>\n",
       "    </tr>\n",
       "  </thead>\n",
       "  <tbody>\n",
       "    <tr>\n",
       "      <th>0</th>\n",
       "      <td>Aceh</td>\n",
       "      <td>Simeulue</td>\n",
       "      <td>18.98</td>\n",
       "      <td>2.275</td>\n",
       "      <td>65.240</td>\n",
       "      <td>9.48</td>\n",
       "      <td>7148</td>\n",
       "      <td>medium</td>\n",
       "      <td>high</td>\n",
       "    </tr>\n",
       "    <tr>\n",
       "      <th>1</th>\n",
       "      <td>Aceh</td>\n",
       "      <td>Aceh Singkil</td>\n",
       "      <td>20.36</td>\n",
       "      <td>2.425</td>\n",
       "      <td>67.355</td>\n",
       "      <td>8.68</td>\n",
       "      <td>8776</td>\n",
       "      <td>medium</td>\n",
       "      <td>secondary</td>\n",
       "    </tr>\n",
       "    <tr>\n",
       "      <th>2</th>\n",
       "      <td>Aceh</td>\n",
       "      <td>Aceh Selatan</td>\n",
       "      <td>13.18</td>\n",
       "      <td>5.531</td>\n",
       "      <td>64.360</td>\n",
       "      <td>8.88</td>\n",
       "      <td>8180</td>\n",
       "      <td>medium</td>\n",
       "      <td>secondary</td>\n",
       "    </tr>\n",
       "    <tr>\n",
       "      <th>3</th>\n",
       "      <td>Aceh</td>\n",
       "      <td>Aceh Tenggara</td>\n",
       "      <td>13.41</td>\n",
       "      <td>5.063</td>\n",
       "      <td>68.155</td>\n",
       "      <td>9.67</td>\n",
       "      <td>8030</td>\n",
       "      <td>medium</td>\n",
       "      <td>high</td>\n",
       "    </tr>\n",
       "    <tr>\n",
       "      <th>4</th>\n",
       "      <td>Aceh</td>\n",
       "      <td>Aceh Timur</td>\n",
       "      <td>14.45</td>\n",
       "      <td>10.616</td>\n",
       "      <td>68.705</td>\n",
       "      <td>8.21</td>\n",
       "      <td>8577</td>\n",
       "      <td>medium</td>\n",
       "      <td>secondary</td>\n",
       "    </tr>\n",
       "    <tr>\n",
       "      <th>...</th>\n",
       "      <td>...</td>\n",
       "      <td>...</td>\n",
       "      <td>...</td>\n",
       "      <td>...</td>\n",
       "      <td>...</td>\n",
       "      <td>...</td>\n",
       "      <td>...</td>\n",
       "      <td>...</td>\n",
       "      <td>...</td>\n",
       "    </tr>\n",
       "    <tr>\n",
       "      <th>502</th>\n",
       "      <td>Papua</td>\n",
       "      <td>Waropen</td>\n",
       "      <td>29.85</td>\n",
       "      <td>2.047</td>\n",
       "      <td>66.410</td>\n",
       "      <td>9.21</td>\n",
       "      <td>6788</td>\n",
       "      <td>medium</td>\n",
       "      <td>high</td>\n",
       "    </tr>\n",
       "    <tr>\n",
       "      <th>503</th>\n",
       "      <td>Papua</td>\n",
       "      <td>Supiori</td>\n",
       "      <td>37.91</td>\n",
       "      <td>1.042</td>\n",
       "      <td>66.055</td>\n",
       "      <td>8.87</td>\n",
       "      <td>5708</td>\n",
       "      <td>high</td>\n",
       "      <td>secondary</td>\n",
       "    </tr>\n",
       "    <tr>\n",
       "      <th>504</th>\n",
       "      <td>Papua</td>\n",
       "      <td>Mamberamo Raya</td>\n",
       "      <td>28.78</td>\n",
       "      <td>1.725</td>\n",
       "      <td>57.990</td>\n",
       "      <td>5.87</td>\n",
       "      <td>4603</td>\n",
       "      <td>medium</td>\n",
       "      <td>primary</td>\n",
       "    </tr>\n",
       "    <tr>\n",
       "      <th>510</th>\n",
       "      <td>Papua</td>\n",
       "      <td>Dogiyai</td>\n",
       "      <td>28.81</td>\n",
       "      <td>1.356</td>\n",
       "      <td>65.845</td>\n",
       "      <td>4.94</td>\n",
       "      <td>5415</td>\n",
       "      <td>medium</td>\n",
       "      <td>primary</td>\n",
       "    </tr>\n",
       "    <tr>\n",
       "      <th>513</th>\n",
       "      <td>Papua</td>\n",
       "      <td>Kota Jayapura</td>\n",
       "      <td>11.39</td>\n",
       "      <td>32.207</td>\n",
       "      <td>70.455</td>\n",
       "      <td>11.57</td>\n",
       "      <td>14937</td>\n",
       "      <td>medium</td>\n",
       "      <td>high</td>\n",
       "    </tr>\n",
       "  </tbody>\n",
       "</table>\n",
       "<p>500 rows × 9 columns</p>\n",
       "</div>"
      ],
      "text/plain": [
       "    province      cities_reg  poorpeople_percentage  reg_gdp  life_exp  \\\n",
       "0       Aceh        Simeulue                  18.98    2.275    65.240   \n",
       "1       Aceh    Aceh Singkil                  20.36    2.425    67.355   \n",
       "2       Aceh    Aceh Selatan                  13.18    5.531    64.360   \n",
       "3       Aceh   Aceh Tenggara                  13.41    5.063    68.155   \n",
       "4       Aceh      Aceh Timur                  14.45   10.616    68.705   \n",
       "..       ...             ...                    ...      ...       ...   \n",
       "502    Papua         Waropen                  29.85    2.047    66.410   \n",
       "503    Papua         Supiori                  37.91    1.042    66.055   \n",
       "504    Papua  Mamberamo Raya                  28.78    1.725    57.990   \n",
       "510    Papua         Dogiyai                  28.81    1.356    65.845   \n",
       "513    Papua   Kota Jayapura                  11.39   32.207    70.455   \n",
       "\n",
       "     avg_schooltime  exp_percap poverty_status edu_status  \n",
       "0              9.48        7148         medium       high  \n",
       "1              8.68        8776         medium  secondary  \n",
       "2              8.88        8180         medium  secondary  \n",
       "3              9.67        8030         medium       high  \n",
       "4              8.21        8577         medium  secondary  \n",
       "..              ...         ...            ...        ...  \n",
       "502            9.21        6788         medium       high  \n",
       "503            8.87        5708           high  secondary  \n",
       "504            5.87        4603         medium    primary  \n",
       "510            4.94        5415         medium    primary  \n",
       "513           11.57       14937         medium       high  \n",
       "\n",
       "[500 rows x 9 columns]"
      ]
     },
     "execution_count": 38,
     "metadata": {},
     "output_type": "execute_result"
    }
   ],
   "source": [
    "df[(df['avg_schooltime'] > low_iqr) & (df['avg_schooltime'] < up_iqr)]"
   ]
  },
  {
   "cell_type": "code",
   "execution_count": 39,
   "id": "f8b6b125-85dd-41ee-a08a-be960cf24e98",
   "metadata": {},
   "outputs": [
    {
     "data": {
      "text/plain": [
       "0.9727626459143969"
      ]
     },
     "execution_count": 39,
     "metadata": {},
     "output_type": "execute_result"
    }
   ],
   "source": [
    "500 / 514"
   ]
  },
  {
   "cell_type": "markdown",
   "id": "4630917b-2ca7-4133-a0c9-645aa7e2f40f",
   "metadata": {},
   "source": [
    "* Conclusion: The outliers were 3%, which is less than the value obtained using the 2 standard deviation method"
   ]
  },
  {
   "cell_type": "code",
   "execution_count": 40,
   "id": "e62f3284-6a13-43dc-bcd9-4d1b9de7cd95",
   "metadata": {},
   "outputs": [
    {
     "data": {
      "text/plain": [
       "(4890.499566266373, 15759.076309220009)"
      ]
     },
     "execution_count": 40,
     "metadata": {},
     "output_type": "execute_result"
    }
   ],
   "source": [
    "low_std_2 = df['exp_percap'].mean() - 2 * df['exp_percap'].std()\n",
    "up_std_2 = df['exp_percap'].mean() + 2 * df['exp_percap'].std()\n",
    "low_std_2, up_std_2"
   ]
  },
  {
   "cell_type": "code",
   "execution_count": 41,
   "id": "e4ea253c-8efe-4d0c-a658-6e7ef011b56f",
   "metadata": {},
   "outputs": [
    {
     "data": {
      "text/html": [
       "<div>\n",
       "<style scoped>\n",
       "    .dataframe tbody tr th:only-of-type {\n",
       "        vertical-align: middle;\n",
       "    }\n",
       "\n",
       "    .dataframe tbody tr th {\n",
       "        vertical-align: top;\n",
       "    }\n",
       "\n",
       "    .dataframe thead th {\n",
       "        text-align: right;\n",
       "    }\n",
       "</style>\n",
       "<table border=\"1\" class=\"dataframe\">\n",
       "  <thead>\n",
       "    <tr style=\"text-align: right;\">\n",
       "      <th></th>\n",
       "      <th>province</th>\n",
       "      <th>cities_reg</th>\n",
       "      <th>poorpeople_percentage</th>\n",
       "      <th>reg_gdp</th>\n",
       "      <th>life_exp</th>\n",
       "      <th>avg_schooltime</th>\n",
       "      <th>exp_percap</th>\n",
       "      <th>poverty_status</th>\n",
       "      <th>edu_status</th>\n",
       "    </tr>\n",
       "  </thead>\n",
       "  <tbody>\n",
       "    <tr>\n",
       "      <th>0</th>\n",
       "      <td>Aceh</td>\n",
       "      <td>Simeulue</td>\n",
       "      <td>18.98</td>\n",
       "      <td>2.275</td>\n",
       "      <td>65.240</td>\n",
       "      <td>9.48</td>\n",
       "      <td>7148</td>\n",
       "      <td>medium</td>\n",
       "      <td>high</td>\n",
       "    </tr>\n",
       "    <tr>\n",
       "      <th>1</th>\n",
       "      <td>Aceh</td>\n",
       "      <td>Aceh Singkil</td>\n",
       "      <td>20.36</td>\n",
       "      <td>2.425</td>\n",
       "      <td>67.355</td>\n",
       "      <td>8.68</td>\n",
       "      <td>8776</td>\n",
       "      <td>medium</td>\n",
       "      <td>secondary</td>\n",
       "    </tr>\n",
       "    <tr>\n",
       "      <th>2</th>\n",
       "      <td>Aceh</td>\n",
       "      <td>Aceh Selatan</td>\n",
       "      <td>13.18</td>\n",
       "      <td>5.531</td>\n",
       "      <td>64.360</td>\n",
       "      <td>8.88</td>\n",
       "      <td>8180</td>\n",
       "      <td>medium</td>\n",
       "      <td>secondary</td>\n",
       "    </tr>\n",
       "    <tr>\n",
       "      <th>3</th>\n",
       "      <td>Aceh</td>\n",
       "      <td>Aceh Tenggara</td>\n",
       "      <td>13.41</td>\n",
       "      <td>5.063</td>\n",
       "      <td>68.155</td>\n",
       "      <td>9.67</td>\n",
       "      <td>8030</td>\n",
       "      <td>medium</td>\n",
       "      <td>high</td>\n",
       "    </tr>\n",
       "    <tr>\n",
       "      <th>4</th>\n",
       "      <td>Aceh</td>\n",
       "      <td>Aceh Timur</td>\n",
       "      <td>14.45</td>\n",
       "      <td>10.616</td>\n",
       "      <td>68.705</td>\n",
       "      <td>8.21</td>\n",
       "      <td>8577</td>\n",
       "      <td>medium</td>\n",
       "      <td>secondary</td>\n",
       "    </tr>\n",
       "    <tr>\n",
       "      <th>...</th>\n",
       "      <td>...</td>\n",
       "      <td>...</td>\n",
       "      <td>...</td>\n",
       "      <td>...</td>\n",
       "      <td>...</td>\n",
       "      <td>...</td>\n",
       "      <td>...</td>\n",
       "      <td>...</td>\n",
       "      <td>...</td>\n",
       "    </tr>\n",
       "    <tr>\n",
       "      <th>503</th>\n",
       "      <td>Papua</td>\n",
       "      <td>Supiori</td>\n",
       "      <td>37.91</td>\n",
       "      <td>1.042</td>\n",
       "      <td>66.055</td>\n",
       "      <td>8.87</td>\n",
       "      <td>5708</td>\n",
       "      <td>high</td>\n",
       "      <td>secondary</td>\n",
       "    </tr>\n",
       "    <tr>\n",
       "      <th>509</th>\n",
       "      <td>Papua</td>\n",
       "      <td>Puncak</td>\n",
       "      <td>36.26</td>\n",
       "      <td>1.438</td>\n",
       "      <td>66.060</td>\n",
       "      <td>2.16</td>\n",
       "      <td>5412</td>\n",
       "      <td>high</td>\n",
       "      <td>primary</td>\n",
       "    </tr>\n",
       "    <tr>\n",
       "      <th>510</th>\n",
       "      <td>Papua</td>\n",
       "      <td>Dogiyai</td>\n",
       "      <td>28.81</td>\n",
       "      <td>1.356</td>\n",
       "      <td>65.845</td>\n",
       "      <td>4.94</td>\n",
       "      <td>5415</td>\n",
       "      <td>medium</td>\n",
       "      <td>primary</td>\n",
       "    </tr>\n",
       "    <tr>\n",
       "      <th>511</th>\n",
       "      <td>Papua</td>\n",
       "      <td>Intan Jaya</td>\n",
       "      <td>41.66</td>\n",
       "      <td>1.274</td>\n",
       "      <td>65.580</td>\n",
       "      <td>3.09</td>\n",
       "      <td>5328</td>\n",
       "      <td>high</td>\n",
       "      <td>primary</td>\n",
       "    </tr>\n",
       "    <tr>\n",
       "      <th>513</th>\n",
       "      <td>Papua</td>\n",
       "      <td>Kota Jayapura</td>\n",
       "      <td>11.39</td>\n",
       "      <td>32.207</td>\n",
       "      <td>70.455</td>\n",
       "      <td>11.57</td>\n",
       "      <td>14937</td>\n",
       "      <td>medium</td>\n",
       "      <td>high</td>\n",
       "    </tr>\n",
       "  </tbody>\n",
       "</table>\n",
       "<p>488 rows × 9 columns</p>\n",
       "</div>"
      ],
      "text/plain": [
       "    province     cities_reg  poorpeople_percentage  reg_gdp  life_exp  \\\n",
       "0       Aceh       Simeulue                  18.98    2.275    65.240   \n",
       "1       Aceh   Aceh Singkil                  20.36    2.425    67.355   \n",
       "2       Aceh   Aceh Selatan                  13.18    5.531    64.360   \n",
       "3       Aceh  Aceh Tenggara                  13.41    5.063    68.155   \n",
       "4       Aceh     Aceh Timur                  14.45   10.616    68.705   \n",
       "..       ...            ...                    ...      ...       ...   \n",
       "503    Papua        Supiori                  37.91    1.042    66.055   \n",
       "509    Papua         Puncak                  36.26    1.438    66.060   \n",
       "510    Papua        Dogiyai                  28.81    1.356    65.845   \n",
       "511    Papua     Intan Jaya                  41.66    1.274    65.580   \n",
       "513    Papua  Kota Jayapura                  11.39   32.207    70.455   \n",
       "\n",
       "     avg_schooltime  exp_percap poverty_status edu_status  \n",
       "0              9.48        7148         medium       high  \n",
       "1              8.68        8776         medium  secondary  \n",
       "2              8.88        8180         medium  secondary  \n",
       "3              9.67        8030         medium       high  \n",
       "4              8.21        8577         medium  secondary  \n",
       "..              ...         ...            ...        ...  \n",
       "503            8.87        5708           high  secondary  \n",
       "509            2.16        5412           high    primary  \n",
       "510            4.94        5415         medium    primary  \n",
       "511            3.09        5328           high    primary  \n",
       "513           11.57       14937         medium       high  \n",
       "\n",
       "[488 rows x 9 columns]"
      ]
     },
     "execution_count": 41,
     "metadata": {},
     "output_type": "execute_result"
    }
   ],
   "source": [
    "df[(df['exp_percap'] > low_std_2) & (df['exp_percap'] < up_std_2)]"
   ]
  },
  {
   "cell_type": "code",
   "execution_count": 42,
   "id": "1e4fed92-7ce4-4843-aafa-f198793cf233",
   "metadata": {},
   "outputs": [
    {
     "data": {
      "text/plain": [
       "0.9494163424124513"
      ]
     },
     "execution_count": 42,
     "metadata": {},
     "output_type": "execute_result"
    }
   ],
   "source": [
    "488 / 514"
   ]
  },
  {
   "cell_type": "markdown",
   "id": "1bd75335-deb4-4869-8993-e92c385f39bd",
   "metadata": {},
   "source": [
    "* Conclusion: In the per capita expenditure column, the emissions were 5% by 2 standard deviations"
   ]
  },
  {
   "cell_type": "code",
   "execution_count": 43,
   "id": "9f530e43-998a-45c6-b2f0-593dae0db530",
   "metadata": {},
   "outputs": [
    {
     "data": {
      "text/plain": [
       "count      514.000000\n",
       "mean     10324.787938\n",
       "std       2717.144186\n",
       "min       3976.000000\n",
       "25%       8574.000000\n",
       "50%      10196.500000\n",
       "75%      11719.000000\n",
       "max      23888.000000\n",
       "Name: exp_percap, dtype: float64"
      ]
     },
     "execution_count": 43,
     "metadata": {},
     "output_type": "execute_result"
    }
   ],
   "source": [
    "df['exp_percap'].describe()"
   ]
  },
  {
   "cell_type": "code",
   "execution_count": 44,
   "id": "c43d19e9-64c6-4831-9c0b-5f03b1fb8067",
   "metadata": {},
   "outputs": [
    {
     "data": {
      "text/plain": [
       "(7001.5, 13291.5)"
      ]
     },
     "execution_count": 44,
     "metadata": {},
     "output_type": "execute_result"
    }
   ],
   "source": [
    "iqr_2 = 11719 - 8574\n",
    "low_iqr_2 = 11719 - 1.5 * iqr_2\n",
    "up_iqr_2 = 8574 + 1.5 * iqr_2\n",
    "low_iqr_2, up_iqr_2"
   ]
  },
  {
   "cell_type": "code",
   "execution_count": 45,
   "id": "5f9f9ccf-5ac3-4217-9c73-9cb692897ca1",
   "metadata": {},
   "outputs": [
    {
     "data": {
      "text/html": [
       "<div>\n",
       "<style scoped>\n",
       "    .dataframe tbody tr th:only-of-type {\n",
       "        vertical-align: middle;\n",
       "    }\n",
       "\n",
       "    .dataframe tbody tr th {\n",
       "        vertical-align: top;\n",
       "    }\n",
       "\n",
       "    .dataframe thead th {\n",
       "        text-align: right;\n",
       "    }\n",
       "</style>\n",
       "<table border=\"1\" class=\"dataframe\">\n",
       "  <thead>\n",
       "    <tr style=\"text-align: right;\">\n",
       "      <th></th>\n",
       "      <th>province</th>\n",
       "      <th>cities_reg</th>\n",
       "      <th>poorpeople_percentage</th>\n",
       "      <th>reg_gdp</th>\n",
       "      <th>life_exp</th>\n",
       "      <th>avg_schooltime</th>\n",
       "      <th>exp_percap</th>\n",
       "      <th>poverty_status</th>\n",
       "      <th>edu_status</th>\n",
       "    </tr>\n",
       "  </thead>\n",
       "  <tbody>\n",
       "    <tr>\n",
       "      <th>0</th>\n",
       "      <td>Aceh</td>\n",
       "      <td>Simeulue</td>\n",
       "      <td>18.98</td>\n",
       "      <td>2.275</td>\n",
       "      <td>65.240</td>\n",
       "      <td>9.48</td>\n",
       "      <td>7148</td>\n",
       "      <td>medium</td>\n",
       "      <td>high</td>\n",
       "    </tr>\n",
       "    <tr>\n",
       "      <th>1</th>\n",
       "      <td>Aceh</td>\n",
       "      <td>Aceh Singkil</td>\n",
       "      <td>20.36</td>\n",
       "      <td>2.425</td>\n",
       "      <td>67.355</td>\n",
       "      <td>8.68</td>\n",
       "      <td>8776</td>\n",
       "      <td>medium</td>\n",
       "      <td>secondary</td>\n",
       "    </tr>\n",
       "    <tr>\n",
       "      <th>2</th>\n",
       "      <td>Aceh</td>\n",
       "      <td>Aceh Selatan</td>\n",
       "      <td>13.18</td>\n",
       "      <td>5.531</td>\n",
       "      <td>64.360</td>\n",
       "      <td>8.88</td>\n",
       "      <td>8180</td>\n",
       "      <td>medium</td>\n",
       "      <td>secondary</td>\n",
       "    </tr>\n",
       "    <tr>\n",
       "      <th>3</th>\n",
       "      <td>Aceh</td>\n",
       "      <td>Aceh Tenggara</td>\n",
       "      <td>13.41</td>\n",
       "      <td>5.063</td>\n",
       "      <td>68.155</td>\n",
       "      <td>9.67</td>\n",
       "      <td>8030</td>\n",
       "      <td>medium</td>\n",
       "      <td>high</td>\n",
       "    </tr>\n",
       "    <tr>\n",
       "      <th>4</th>\n",
       "      <td>Aceh</td>\n",
       "      <td>Aceh Timur</td>\n",
       "      <td>14.45</td>\n",
       "      <td>10.616</td>\n",
       "      <td>68.705</td>\n",
       "      <td>8.21</td>\n",
       "      <td>8577</td>\n",
       "      <td>medium</td>\n",
       "      <td>secondary</td>\n",
       "    </tr>\n",
       "    <tr>\n",
       "      <th>...</th>\n",
       "      <td>...</td>\n",
       "      <td>...</td>\n",
       "      <td>...</td>\n",
       "      <td>...</td>\n",
       "      <td>...</td>\n",
       "      <td>...</td>\n",
       "      <td>...</td>\n",
       "      <td>...</td>\n",
       "      <td>...</td>\n",
       "    </tr>\n",
       "    <tr>\n",
       "      <th>489</th>\n",
       "      <td>Papua</td>\n",
       "      <td>Kepulauan Yapen</td>\n",
       "      <td>26.09</td>\n",
       "      <td>4.159</td>\n",
       "      <td>69.070</td>\n",
       "      <td>9.47</td>\n",
       "      <td>7491</td>\n",
       "      <td>medium</td>\n",
       "      <td>high</td>\n",
       "    </tr>\n",
       "    <tr>\n",
       "      <th>490</th>\n",
       "      <td>Papua</td>\n",
       "      <td>Biak Numfor</td>\n",
       "      <td>24.45</td>\n",
       "      <td>5.232</td>\n",
       "      <td>68.205</td>\n",
       "      <td>10.34</td>\n",
       "      <td>9607</td>\n",
       "      <td>medium</td>\n",
       "      <td>high</td>\n",
       "    </tr>\n",
       "    <tr>\n",
       "      <th>493</th>\n",
       "      <td>Papua</td>\n",
       "      <td>Mimika</td>\n",
       "      <td>14.17</td>\n",
       "      <td>63.397</td>\n",
       "      <td>72.375</td>\n",
       "      <td>10.18</td>\n",
       "      <td>11400</td>\n",
       "      <td>medium</td>\n",
       "      <td>high</td>\n",
       "    </tr>\n",
       "    <tr>\n",
       "      <th>494</th>\n",
       "      <td>Papua</td>\n",
       "      <td>Boven Digoel</td>\n",
       "      <td>19.90</td>\n",
       "      <td>4.863</td>\n",
       "      <td>60.300</td>\n",
       "      <td>8.79</td>\n",
       "      <td>7864</td>\n",
       "      <td>medium</td>\n",
       "      <td>secondary</td>\n",
       "    </tr>\n",
       "    <tr>\n",
       "      <th>501</th>\n",
       "      <td>Papua</td>\n",
       "      <td>Keerom</td>\n",
       "      <td>16.00</td>\n",
       "      <td>2.927</td>\n",
       "      <td>66.645</td>\n",
       "      <td>8.02</td>\n",
       "      <td>8926</td>\n",
       "      <td>medium</td>\n",
       "      <td>secondary</td>\n",
       "    </tr>\n",
       "  </tbody>\n",
       "</table>\n",
       "<p>414 rows × 9 columns</p>\n",
       "</div>"
      ],
      "text/plain": [
       "    province       cities_reg  poorpeople_percentage  reg_gdp  life_exp  \\\n",
       "0       Aceh         Simeulue                  18.98    2.275    65.240   \n",
       "1       Aceh     Aceh Singkil                  20.36    2.425    67.355   \n",
       "2       Aceh     Aceh Selatan                  13.18    5.531    64.360   \n",
       "3       Aceh    Aceh Tenggara                  13.41    5.063    68.155   \n",
       "4       Aceh       Aceh Timur                  14.45   10.616    68.705   \n",
       "..       ...              ...                    ...      ...       ...   \n",
       "489    Papua  Kepulauan Yapen                  26.09    4.159    69.070   \n",
       "490    Papua      Biak Numfor                  24.45    5.232    68.205   \n",
       "493    Papua           Mimika                  14.17   63.397    72.375   \n",
       "494    Papua     Boven Digoel                  19.90    4.863    60.300   \n",
       "501    Papua           Keerom                  16.00    2.927    66.645   \n",
       "\n",
       "     avg_schooltime  exp_percap poverty_status edu_status  \n",
       "0              9.48        7148         medium       high  \n",
       "1              8.68        8776         medium  secondary  \n",
       "2              8.88        8180         medium  secondary  \n",
       "3              9.67        8030         medium       high  \n",
       "4              8.21        8577         medium  secondary  \n",
       "..              ...         ...            ...        ...  \n",
       "489            9.47        7491         medium       high  \n",
       "490           10.34        9607         medium       high  \n",
       "493           10.18       11400         medium       high  \n",
       "494            8.79        7864         medium  secondary  \n",
       "501            8.02        8926         medium  secondary  \n",
       "\n",
       "[414 rows x 9 columns]"
      ]
     },
     "execution_count": 45,
     "metadata": {},
     "output_type": "execute_result"
    }
   ],
   "source": [
    "df[(df['exp_percap'] > low_iqr_2) & (df['exp_percap'] < up_iqr_2)]"
   ]
  },
  {
   "cell_type": "code",
   "execution_count": 46,
   "id": "baf139d2-e982-40a9-b79c-07d87b1c7abc",
   "metadata": {},
   "outputs": [
    {
     "data": {
      "text/plain": [
       "0.8054474708171206"
      ]
     },
     "execution_count": 46,
     "metadata": {},
     "output_type": "execute_result"
    }
   ],
   "source": [
    "414 / 514"
   ]
  },
  {
   "cell_type": "markdown",
   "id": "59faddc2-557a-4f15-bbb3-2441cc11662a",
   "metadata": {},
   "source": [
    "* Conclusion: In the per capita expenditure column, outliers were almost 20%, which is significantly more than the value obtained by 2 standard deviations"
   ]
  },
  {
   "cell_type": "markdown",
   "id": "1409f438-ff95-44e3-88fa-4d4941be4eb3",
   "metadata": {},
   "source": [
    "**STAGE 3. Part 4**"
   ]
  },
  {
   "cell_type": "markdown",
   "id": "4c025bfa-dcef-4247-9265-9bf9a4d49a15",
   "metadata": {},
   "source": [
    "For 'avg_schooltime' we chose the method of 2 standard deviations, for 'exp_percap' we chose the method of 1.5IQR"
   ]
  },
  {
   "cell_type": "code",
   "execution_count": 47,
   "id": "c86bb186-a420-481d-972a-4736d3ce39b7",
   "metadata": {},
   "outputs": [
    {
     "data": {
      "text/plain": [
       "8.436614785992218"
      ]
     },
     "execution_count": 47,
     "metadata": {},
     "output_type": "execute_result"
    }
   ],
   "source": [
    "mean = df['avg_schooltime'].mean()\n",
    "mean"
   ]
  },
  {
   "cell_type": "code",
   "execution_count": 48,
   "id": "0bbfc75b-48e3-4781-b82f-4ba56f7f64ce",
   "metadata": {},
   "outputs": [],
   "source": [
    "def change_schooltime(x):\n",
    "    if x < low_std or x > up_std:\n",
    "        return 8.436614785992218\n",
    "    else:\n",
    "        return x"
   ]
  },
  {
   "cell_type": "code",
   "execution_count": 49,
   "id": "4d0ba5af-7bd3-44d1-87f8-990b412b79f6",
   "metadata": {},
   "outputs": [
    {
     "data": {
      "text/plain": [
       "8.52109994095293"
      ]
     },
     "execution_count": 49,
     "metadata": {},
     "output_type": "execute_result"
    }
   ],
   "source": [
    "df['avg_schooltime'] = df['avg_schooltime'].apply(change_schooltime)\n",
    "df['avg_schooltime'].mean()"
   ]
  },
  {
   "cell_type": "code",
   "execution_count": 50,
   "id": "2dc30cd0-ab9a-47d3-be7a-6dde0fd923e9",
   "metadata": {},
   "outputs": [
    {
     "data": {
      "text/html": [
       "<div>\n",
       "<style scoped>\n",
       "    .dataframe tbody tr th:only-of-type {\n",
       "        vertical-align: middle;\n",
       "    }\n",
       "\n",
       "    .dataframe tbody tr th {\n",
       "        vertical-align: top;\n",
       "    }\n",
       "\n",
       "    .dataframe thead th {\n",
       "        text-align: right;\n",
       "    }\n",
       "</style>\n",
       "<table border=\"1\" class=\"dataframe\">\n",
       "  <thead>\n",
       "    <tr style=\"text-align: right;\">\n",
       "      <th></th>\n",
       "      <th>province</th>\n",
       "      <th>cities_reg</th>\n",
       "      <th>poorpeople_percentage</th>\n",
       "      <th>reg_gdp</th>\n",
       "      <th>life_exp</th>\n",
       "      <th>avg_schooltime</th>\n",
       "      <th>exp_percap</th>\n",
       "      <th>poverty_status</th>\n",
       "      <th>edu_status</th>\n",
       "    </tr>\n",
       "  </thead>\n",
       "  <tbody>\n",
       "  </tbody>\n",
       "</table>\n",
       "</div>"
      ],
      "text/plain": [
       "Empty DataFrame\n",
       "Columns: [province, cities_reg, poorpeople_percentage, reg_gdp, life_exp, avg_schooltime, exp_percap, poverty_status, edu_status]\n",
       "Index: []"
      ]
     },
     "execution_count": 50,
     "metadata": {},
     "output_type": "execute_result"
    }
   ],
   "source": [
    "df[(df['avg_schooltime'] < low_std) & (df['avg_schooltime'] > up_std)]"
   ]
  },
  {
   "cell_type": "markdown",
   "id": "67fc1aa3-fc5b-4678-a49a-8fd2439807ee",
   "metadata": {},
   "source": [
    "* Conclusion: The mean changed and we can definitely say that there are no more outliers"
   ]
  },
  {
   "cell_type": "code",
   "execution_count": 51,
   "id": "aaf8d59e-74a1-4528-b2e5-fc2f8e8fd0c4",
   "metadata": {},
   "outputs": [
    {
     "data": {
      "text/plain": [
       "10324.787937743191"
      ]
     },
     "execution_count": 51,
     "metadata": {},
     "output_type": "execute_result"
    }
   ],
   "source": [
    "mean2 = df['exp_percap'].mean()\n",
    "mean2"
   ]
  },
  {
   "cell_type": "markdown",
   "id": "3c42f545-1f01-436e-ba9b-74289870bb73",
   "metadata": {},
   "source": [
    "It was decided to replace 20% of the outliers, because the dataset is small"
   ]
  },
  {
   "cell_type": "code",
   "execution_count": 52,
   "id": "575b6253-f887-43d0-a5e4-68fe280fefc8",
   "metadata": {},
   "outputs": [
    {
     "data": {
      "text/plain": [
       "10196.5"
      ]
     },
     "execution_count": 52,
     "metadata": {},
     "output_type": "execute_result"
    }
   ],
   "source": [
    "df['exp_percap'].median()"
   ]
  },
  {
   "cell_type": "code",
   "execution_count": 53,
   "id": "686183e0-dd63-4589-8a0b-d01b78215dd3",
   "metadata": {},
   "outputs": [],
   "source": [
    "def change_percap(x):\n",
    "    if x < low_iqr_2 or x > up_iqr_2:\n",
    "        return 10196.5\n",
    "    else:\n",
    "        return x"
   ]
  },
  {
   "cell_type": "code",
   "execution_count": 54,
   "id": "b8c8e958-1743-4b4a-b200-e814558dd4d2",
   "metadata": {},
   "outputs": [
    {
     "data": {
      "text/plain": [
       "10083.449416342413"
      ]
     },
     "execution_count": 54,
     "metadata": {},
     "output_type": "execute_result"
    }
   ],
   "source": [
    "df['exp_percap'] = df['exp_percap'].apply(change_percap)\n",
    "df['exp_percap'].mean()"
   ]
  },
  {
   "cell_type": "code",
   "execution_count": 55,
   "id": "845580d4-456e-4705-b5c4-a9c2d2c13296",
   "metadata": {},
   "outputs": [
    {
     "data": {
      "text/html": [
       "<div>\n",
       "<style scoped>\n",
       "    .dataframe tbody tr th:only-of-type {\n",
       "        vertical-align: middle;\n",
       "    }\n",
       "\n",
       "    .dataframe tbody tr th {\n",
       "        vertical-align: top;\n",
       "    }\n",
       "\n",
       "    .dataframe thead th {\n",
       "        text-align: right;\n",
       "    }\n",
       "</style>\n",
       "<table border=\"1\" class=\"dataframe\">\n",
       "  <thead>\n",
       "    <tr style=\"text-align: right;\">\n",
       "      <th></th>\n",
       "      <th>province</th>\n",
       "      <th>cities_reg</th>\n",
       "      <th>poorpeople_percentage</th>\n",
       "      <th>reg_gdp</th>\n",
       "      <th>life_exp</th>\n",
       "      <th>avg_schooltime</th>\n",
       "      <th>exp_percap</th>\n",
       "      <th>poverty_status</th>\n",
       "      <th>edu_status</th>\n",
       "    </tr>\n",
       "  </thead>\n",
       "  <tbody>\n",
       "  </tbody>\n",
       "</table>\n",
       "</div>"
      ],
      "text/plain": [
       "Empty DataFrame\n",
       "Columns: [province, cities_reg, poorpeople_percentage, reg_gdp, life_exp, avg_schooltime, exp_percap, poverty_status, edu_status]\n",
       "Index: []"
      ]
     },
     "execution_count": 55,
     "metadata": {},
     "output_type": "execute_result"
    }
   ],
   "source": [
    "df[(df['exp_percap'] < low_iqr_2) & (df['exp_percap'] > up_iqr_2)]"
   ]
  },
  {
   "cell_type": "markdown",
   "id": "2e25e054-974a-4976-add6-d076d262e43e",
   "metadata": {},
   "source": [
    "* Conclusion: No outliers"
   ]
  },
  {
   "cell_type": "markdown",
   "id": "c46f6b8b-5321-452c-bf0f-63db5191c128",
   "metadata": {},
   "source": [
    "**STAGE 3. Part 5**"
   ]
  },
  {
   "cell_type": "code",
   "execution_count": 56,
   "id": "eb946281-db68-4faa-b84b-9a3a4513201e",
   "metadata": {},
   "outputs": [
    {
     "data": {
      "text/plain": [
       "province                 0\n",
       "cities_reg               0\n",
       "poorpeople_percentage    0\n",
       "reg_gdp                  0\n",
       "life_exp                 0\n",
       "avg_schooltime           0\n",
       "exp_percap               0\n",
       "poverty_status           0\n",
       "edu_status               0\n",
       "dtype: int64"
      ]
     },
     "execution_count": 56,
     "metadata": {},
     "output_type": "execute_result"
    }
   ],
   "source": [
    "df.isna().sum()"
   ]
  },
  {
   "cell_type": "markdown",
   "id": "755c6078-1b12-4c0f-ae4e-d25939fd15ba",
   "metadata": {},
   "source": [
    "* Conclusion: There are no missing values in the data"
   ]
  },
  {
   "cell_type": "code",
   "execution_count": 57,
   "id": "19dcda13-7b22-48d0-b37b-5410ea4270df",
   "metadata": {},
   "outputs": [
    {
     "data": {
      "text/html": [
       "<div>\n",
       "<style scoped>\n",
       "    .dataframe tbody tr th:only-of-type {\n",
       "        vertical-align: middle;\n",
       "    }\n",
       "\n",
       "    .dataframe tbody tr th {\n",
       "        vertical-align: top;\n",
       "    }\n",
       "\n",
       "    .dataframe thead th {\n",
       "        text-align: right;\n",
       "    }\n",
       "</style>\n",
       "<table border=\"1\" class=\"dataframe\">\n",
       "  <thead>\n",
       "    <tr style=\"text-align: right;\">\n",
       "      <th></th>\n",
       "      <th>poorpeople_percentage</th>\n",
       "      <th>reg_gdp</th>\n",
       "      <th>life_exp</th>\n",
       "      <th>avg_schooltime</th>\n",
       "      <th>exp_percap</th>\n",
       "    </tr>\n",
       "  </thead>\n",
       "  <tbody>\n",
       "    <tr>\n",
       "      <th>poorpeople_percentage</th>\n",
       "      <td>1.000000</td>\n",
       "      <td>-0.078131</td>\n",
       "      <td>-0.538820</td>\n",
       "      <td>-0.299769</td>\n",
       "      <td>-0.290393</td>\n",
       "    </tr>\n",
       "    <tr>\n",
       "      <th>reg_gdp</th>\n",
       "      <td>-0.078131</td>\n",
       "      <td>1.000000</td>\n",
       "      <td>0.209147</td>\n",
       "      <td>0.175244</td>\n",
       "      <td>0.101729</td>\n",
       "    </tr>\n",
       "    <tr>\n",
       "      <th>life_exp</th>\n",
       "      <td>-0.538820</td>\n",
       "      <td>0.209147</td>\n",
       "      <td>1.000000</td>\n",
       "      <td>0.316408</td>\n",
       "      <td>0.278622</td>\n",
       "    </tr>\n",
       "    <tr>\n",
       "      <th>avg_schooltime</th>\n",
       "      <td>-0.299769</td>\n",
       "      <td>0.175244</td>\n",
       "      <td>0.316408</td>\n",
       "      <td>1.000000</td>\n",
       "      <td>0.259323</td>\n",
       "    </tr>\n",
       "    <tr>\n",
       "      <th>exp_percap</th>\n",
       "      <td>-0.290393</td>\n",
       "      <td>0.101729</td>\n",
       "      <td>0.278622</td>\n",
       "      <td>0.259323</td>\n",
       "      <td>1.000000</td>\n",
       "    </tr>\n",
       "  </tbody>\n",
       "</table>\n",
       "</div>"
      ],
      "text/plain": [
       "                       poorpeople_percentage   reg_gdp  life_exp  \\\n",
       "poorpeople_percentage               1.000000 -0.078131 -0.538820   \n",
       "reg_gdp                            -0.078131  1.000000  0.209147   \n",
       "life_exp                           -0.538820  0.209147  1.000000   \n",
       "avg_schooltime                     -0.299769  0.175244  0.316408   \n",
       "exp_percap                         -0.290393  0.101729  0.278622   \n",
       "\n",
       "                       avg_schooltime  exp_percap  \n",
       "poorpeople_percentage       -0.299769   -0.290393  \n",
       "reg_gdp                      0.175244    0.101729  \n",
       "life_exp                     0.316408    0.278622  \n",
       "avg_schooltime               1.000000    0.259323  \n",
       "exp_percap                   0.259323    1.000000  "
      ]
     },
     "execution_count": 57,
     "metadata": {},
     "output_type": "execute_result"
    }
   ],
   "source": [
    "corr = df.corr(numeric_only=True)\n",
    "corr"
   ]
  },
  {
   "cell_type": "code",
   "execution_count": 58,
   "id": "d167d672-301a-4eae-a89e-949006563cb7",
   "metadata": {},
   "outputs": [
    {
     "data": {
      "text/plain": [
       "<Axes: >"
      ]
     },
     "execution_count": 58,
     "metadata": {},
     "output_type": "execute_result"
    },
    {
     "data": {
      "image/png": "[encoded data removed]",
      "text/plain": [
       "<Figure size 640x480 with 2 Axes>"
      ]
     },
     "metadata": {},
     "output_type": "display_data"
    }
   ],
   "source": [
    "sns.heatmap(corr, annot=True, vmin=-1, vmax=1, cmap='coolwarm')"
   ]
  },
  {
   "cell_type": "markdown",
   "id": "d9e5aa80-ce1d-4696-8b39-2b24d054a9c4",
   "metadata": {},
   "source": [
    "* Conclusion: The strongest positive relationship is between the avg_schooltime and life_exp observations (0.32), which indicates a medium-strength relationship. There is the strongest negative relationship between the signs life_exp and poorpeople_percentage (-0.54), the relationship is considered high. The negative relationship between reg_gdp and poorpeople_percentage is very weak (-0.078)"
   ]
  }
 ],
 "metadata": {
  "kernelspec": {
   "display_name": "Python 3 (ipykernel)",
   "language": "python",
   "name": "python3"
  },
  "language_info": {
   "codemirror_mode": {
    "name": "ipython",
    "version": 3
   },
   "file_extension": ".py",
   "mimetype": "text/x-python",
   "name": "python",
   "nbconvert_exporter": "python",
   "pygments_lexer": "ipython3",
   "version": "3.11.7"
  }
 },
 "nbformat": 4,
 "nbformat_minor": 5
}
